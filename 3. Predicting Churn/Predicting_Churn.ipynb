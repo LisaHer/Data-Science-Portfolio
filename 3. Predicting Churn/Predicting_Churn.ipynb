{
  "nbformat": 4,
  "nbformat_minor": 0,
  "metadata": {
    "colab": {
      "name": "Predicting Churn",
      "provenance": [],
      "collapsed_sections": []
    },
    "kernelspec": {
      "name": "python3",
      "display_name": "Python 3"
    }
  },
  "cells": [
    {
      "cell_type": "markdown",
      "metadata": {
        "id": "ynMFlzzi57ff"
      },
      "source": [
        "# Predicting Churn"
      ]
    },
    {
      "cell_type": "markdown",
      "metadata": {
        "id": "h6xCUklA5_do"
      },
      "source": [
        "### *1. Importing libraries and data*"
      ]
    },
    {
      "cell_type": "code",
      "metadata": {
        "id": "5EibIoSj5-Na"
      },
      "source": [
        "import numpy as np\n",
        "import pandas as pd\n",
        "from google.colab import drive\n",
        "from sklearn.model_selection import train_test_split\n",
        "from sklearn.tree import DecisionTreeClassifier\n",
        "from sklearn.neighbors import KNeighborsClassifier\n",
        "from sklearn.linear_model import LogisticRegression\n",
        "from sklearn.naive_bayes import GaussianNB\n",
        "from sklearn.svm import SVC\n",
        "from sklearn.ensemble import RandomForestClassifier\n",
        "import tensorflow as tf\n",
        "from sklearn.model_selection import cross_val_score\n",
        "from sklearn.metrics import confusion_matrix, accuracy_score"
      ],
      "execution_count": null,
      "outputs": []
    },
    {
      "cell_type": "code",
      "metadata": {
        "colab": {
          "base_uri": "https://localhost:8080/"
        },
        "id": "T7k7pRFu6I27",
        "outputId": "434779ec-5bfb-4b2e-ae15-06f45c5ac0c7"
      },
      "source": [
        "drive.mount('/content/drive')\n",
        "%cd /content/drive/My\\ Drive/2.\\ Career\\ Development/Data\\ Science/4.\\ Data\\ Science\\ Projects/Predicting\\ Churn/"
      ],
      "execution_count": null,
      "outputs": [
        {
          "output_type": "stream",
          "text": [
            "Mounted at /content/drive\n",
            "/content/drive/My Drive/2. Career Development/Data Science/4. Data Science Projects/Predicting Churn\n"
          ],
          "name": "stdout"
        }
      ]
    },
    {
      "cell_type": "code",
      "metadata": {
        "id": "OcukuTbOMErW"
      },
      "source": [
        "cols = ['Unnamed: 0', 'churn']\n",
        "x = pd.read_csv('predicting_churn.csv').drop(cols, axis = 1)"
      ],
      "execution_count": null,
      "outputs": []
    },
    {
      "cell_type": "code",
      "metadata": {
        "id": "ewMIhG-f5_kP"
      },
      "source": [
        "y = pd.read_csv('predicting_churn.csv')['churn']"
      ],
      "execution_count": null,
      "outputs": []
    },
    {
      "cell_type": "markdown",
      "metadata": {
        "id": "yilqdRWcXaCm"
      },
      "source": [
        "__________________"
      ]
    },
    {
      "cell_type": "markdown",
      "metadata": {
        "id": "i86iejCMQWKu"
      },
      "source": [
        "### *2. Splitting Data into Training & Test Set*"
      ]
    },
    {
      "cell_type": "markdown",
      "metadata": {
        "id": "ne2ve2ZzNmc5"
      },
      "source": [
        "**2.1 Scaled**"
      ]
    },
    {
      "cell_type": "code",
      "metadata": {
        "id": "cn8QFNducVnB"
      },
      "source": [
        "y = y.values\n",
        "x = x.values"
      ],
      "execution_count": null,
      "outputs": []
    },
    {
      "cell_type": "code",
      "metadata": {
        "id": "Jp3y1td3f80f"
      },
      "source": [
        "x_train, x_test, y_train, y_test = train_test_split(x, y, test_size = 0.2, random_state = 0)"
      ],
      "execution_count": null,
      "outputs": []
    },
    {
      "cell_type": "markdown",
      "metadata": {
        "id": "rUL0PEcqQoOd"
      },
      "source": [
        "______________"
      ]
    },
    {
      "cell_type": "markdown",
      "metadata": {
        "id": "EbH5qjekQtqk"
      },
      "source": [
        "### *3. Fitting a Decision Tree*"
      ]
    },
    {
      "cell_type": "code",
      "metadata": {
        "colab": {
          "base_uri": "https://localhost:8080/"
        },
        "id": "6PevSikNPTHH",
        "outputId": "ab20227d-364e-4e2b-9a1f-7b7a22af77a7"
      },
      "source": [
        "decision_tree = DecisionTreeClassifier(criterion = 'entropy', random_state = 0)\n",
        "decision_tree.fit(x_train, y_train)"
      ],
      "execution_count": null,
      "outputs": [
        {
          "output_type": "execute_result",
          "data": {
            "text/plain": [
              "DecisionTreeClassifier(ccp_alpha=0.0, class_weight=None, criterion='entropy',\n",
              "                       max_depth=None, max_features=None, max_leaf_nodes=None,\n",
              "                       min_impurity_decrease=0.0, min_impurity_split=None,\n",
              "                       min_samples_leaf=1, min_samples_split=2,\n",
              "                       min_weight_fraction_leaf=0.0, presort='deprecated',\n",
              "                       random_state=0, splitter='best')"
            ]
          },
          "metadata": {
            "tags": []
          },
          "execution_count": 16
        }
      ]
    },
    {
      "cell_type": "markdown",
      "metadata": {
        "id": "ffJuXBTBRCB8"
      },
      "source": [
        "Cross Validation Training Set"
      ]
    },
    {
      "cell_type": "code",
      "metadata": {
        "colab": {
          "base_uri": "https://localhost:8080/"
        },
        "id": "kF8yVzC8Qoka",
        "outputId": "810bd904-1ef7-4292-ba54-3b1a75e2df9f"
      },
      "source": [
        "accuracies = cross_val_score(estimator = decision_tree, X = x_train, y = y_train, cv = 10)\n",
        "print(\"Accuracy: {:.2f} %\".format(accuracies.mean()*100))\n",
        "print(\"Standard Deviation: {:.2f} %\".format(accuracies.std()*100))"
      ],
      "execution_count": null,
      "outputs": [
        {
          "output_type": "stream",
          "text": [
            "Accuracy: 91.97 %\n",
            "Standard Deviation: 1.69 %\n"
          ],
          "name": "stdout"
        }
      ]
    },
    {
      "cell_type": "markdown",
      "metadata": {
        "id": "7h3lWUuTRax4"
      },
      "source": [
        "Test Set Performance"
      ]
    },
    {
      "cell_type": "code",
      "metadata": {
        "id": "JZAL1teaRf_p"
      },
      "source": [
        "y_pred = decision_tree.predict(x_test)"
      ],
      "execution_count": null,
      "outputs": []
    },
    {
      "cell_type": "code",
      "metadata": {
        "colab": {
          "base_uri": "https://localhost:8080/"
        },
        "id": "nqu9Z2flRPTY",
        "outputId": "5d59a20f-b106-4231-fde8-1abb0844026d"
      },
      "source": [
        "cm = confusion_matrix(y_test, y_pred)\n",
        "print(cm)\n",
        "accuracy_score(y_test, y_pred)"
      ],
      "execution_count": null,
      "outputs": [
        {
          "output_type": "stream",
          "text": [
            "[[697  38]\n",
            " [ 31  84]]\n"
          ],
          "name": "stdout"
        },
        {
          "output_type": "execute_result",
          "data": {
            "text/plain": [
              "0.9188235294117647"
            ]
          },
          "metadata": {
            "tags": []
          },
          "execution_count": 20
        }
      ]
    },
    {
      "cell_type": "markdown",
      "metadata": {
        "id": "6tNTBOkzRpTk"
      },
      "source": [
        "___________________________"
      ]
    },
    {
      "cell_type": "markdown",
      "metadata": {
        "id": "0OU5-_XjSJ1O"
      },
      "source": [
        "### *4. Fitting KNN*"
      ]
    },
    {
      "cell_type": "code",
      "metadata": {
        "colab": {
          "base_uri": "https://localhost:8080/"
        },
        "id": "agtsntOoRkSS",
        "outputId": "628bb068-95f0-499e-8105-ab8c1b6b315e"
      },
      "source": [
        "knn = KNeighborsClassifier(n_neighbors=5, metric = 'minkowski', p=2)\n",
        "knn.fit(x_train, y_train)"
      ],
      "execution_count": null,
      "outputs": [
        {
          "output_type": "execute_result",
          "data": {
            "text/plain": [
              "KNeighborsClassifier(algorithm='auto', leaf_size=30, metric='minkowski',\n",
              "                     metric_params=None, n_jobs=None, n_neighbors=5, p=2,\n",
              "                     weights='uniform')"
            ]
          },
          "metadata": {
            "tags": []
          },
          "execution_count": 23
        }
      ]
    },
    {
      "cell_type": "markdown",
      "metadata": {
        "id": "Uzvm_jmxTISu"
      },
      "source": [
        "Cross Validation Training Set"
      ]
    },
    {
      "cell_type": "code",
      "metadata": {
        "colab": {
          "base_uri": "https://localhost:8080/"
        },
        "id": "E-2eexODTARp",
        "outputId": "204951a8-e9fc-47e4-ac60-089d2427bad5"
      },
      "source": [
        "accuracies = cross_val_score(estimator = knn, X = x_train, y = y_train, cv = 10)\n",
        "print(\"Accuracy: {:.2f} %\".format(accuracies.mean()*100))\n",
        "print(\"Standard Deviation: {:.2f} %\".format(accuracies.std()*100))"
      ],
      "execution_count": null,
      "outputs": [
        {
          "output_type": "stream",
          "text": [
            "Accuracy: 88.71 %\n",
            "Standard Deviation: 0.93 %\n"
          ],
          "name": "stdout"
        }
      ]
    },
    {
      "cell_type": "markdown",
      "metadata": {
        "id": "fQCEfU1KT_c0"
      },
      "source": [
        "Test Set Performance"
      ]
    },
    {
      "cell_type": "code",
      "metadata": {
        "id": "ienZ1X5KTSur"
      },
      "source": [
        "y_pred = knn.predict(x_test)"
      ],
      "execution_count": null,
      "outputs": []
    },
    {
      "cell_type": "code",
      "metadata": {
        "colab": {
          "base_uri": "https://localhost:8080/"
        },
        "id": "2kMtG5V3UHEq",
        "outputId": "2a304002-e153-4702-daa1-7ca162d02ee1"
      },
      "source": [
        "cm = confusion_matrix(y_test, y_pred)\n",
        "print(cm)\n",
        "accuracy_score(y_test, y_pred)"
      ],
      "execution_count": null,
      "outputs": [
        {
          "output_type": "stream",
          "text": [
            "[[731   4]\n",
            " [ 86  29]]\n"
          ],
          "name": "stdout"
        },
        {
          "output_type": "execute_result",
          "data": {
            "text/plain": [
              "0.8941176470588236"
            ]
          },
          "metadata": {
            "tags": []
          },
          "execution_count": 27
        }
      ]
    },
    {
      "cell_type": "markdown",
      "metadata": {
        "id": "YwNrizJ1Vbx2"
      },
      "source": [
        "____________"
      ]
    },
    {
      "cell_type": "markdown",
      "metadata": {
        "id": "6X34O9kOVe1B"
      },
      "source": [
        "### *5. Logistic Regression*"
      ]
    },
    {
      "cell_type": "code",
      "metadata": {
        "colab": {
          "base_uri": "https://localhost:8080/"
        },
        "id": "q1CDJ5MoUK28",
        "outputId": "597c10bd-bb88-4ade-c400-43ccdbca7ca3"
      },
      "source": [
        "logistic_regression = LogisticRegression(random_state = 0)\n",
        "logistic_regression.fit(x_train, y_train)"
      ],
      "execution_count": null,
      "outputs": [
        {
          "output_type": "execute_result",
          "data": {
            "text/plain": [
              "LogisticRegression(C=1.0, class_weight=None, dual=False, fit_intercept=True,\n",
              "                   intercept_scaling=1, l1_ratio=None, max_iter=100,\n",
              "                   multi_class='auto', n_jobs=None, penalty='l2',\n",
              "                   random_state=0, solver='lbfgs', tol=0.0001, verbose=0,\n",
              "                   warm_start=False)"
            ]
          },
          "metadata": {
            "tags": []
          },
          "execution_count": 29
        }
      ]
    },
    {
      "cell_type": "markdown",
      "metadata": {
        "id": "t1U7dBeCXCqe"
      },
      "source": [
        "Cross Validation Training Set"
      ]
    },
    {
      "cell_type": "code",
      "metadata": {
        "colab": {
          "base_uri": "https://localhost:8080/"
        },
        "id": "Jg7tyaWHW7p8",
        "outputId": "fb6d7886-05c1-4119-bf52-22b162e66e9e"
      },
      "source": [
        "accuracies = cross_val_score(estimator = logistic_regression, X = x_train, y = y_train, cv = 10)\n",
        "print(\"Accuracy: {:.2f} %\".format(accuracies.mean()*100))\n",
        "print(\"Standard Deviation: {:.2f} %\".format(accuracies.std()*100))"
      ],
      "execution_count": null,
      "outputs": [
        {
          "output_type": "stream",
          "text": [
            "Accuracy: 86.59 %\n",
            "Standard Deviation: 0.95 %\n"
          ],
          "name": "stdout"
        }
      ]
    },
    {
      "cell_type": "markdown",
      "metadata": {
        "id": "u0CErrTzXHn3"
      },
      "source": [
        "Test Set Performance"
      ]
    },
    {
      "cell_type": "code",
      "metadata": {
        "id": "4ndvO8ywXN2X"
      },
      "source": [
        "y_pred = logistic_regression.predict(x_test)"
      ],
      "execution_count": null,
      "outputs": []
    },
    {
      "cell_type": "code",
      "metadata": {
        "colab": {
          "base_uri": "https://localhost:8080/"
        },
        "id": "DlFa4gk7XRNl",
        "outputId": "2b979f25-c859-44b8-a444-ee43f254a1c7"
      },
      "source": [
        "cm = confusion_matrix(y_test, y_pred)\n",
        "print(cm)\n",
        "accuracy_score(y_test, y_pred)"
      ],
      "execution_count": null,
      "outputs": [
        {
          "output_type": "stream",
          "text": [
            "[[718  17]\n",
            " [ 92  23]]\n"
          ],
          "name": "stdout"
        },
        {
          "output_type": "execute_result",
          "data": {
            "text/plain": [
              "0.8717647058823529"
            ]
          },
          "metadata": {
            "tags": []
          },
          "execution_count": 33
        }
      ]
    },
    {
      "cell_type": "markdown",
      "metadata": {
        "id": "y6FQeGwfXbc2"
      },
      "source": [
        "__________"
      ]
    },
    {
      "cell_type": "markdown",
      "metadata": {
        "id": "BgmleybtXhq2"
      },
      "source": [
        "### *6. Naive Bayes*"
      ]
    },
    {
      "cell_type": "code",
      "metadata": {
        "colab": {
          "base_uri": "https://localhost:8080/"
        },
        "id": "ymHSgpd3XdXj",
        "outputId": "c0ca4e12-e91a-446b-9ae7-1a474c70215a"
      },
      "source": [
        "nb = GaussianNB()\n",
        "nb.fit(x_train, y_train)"
      ],
      "execution_count": null,
      "outputs": [
        {
          "output_type": "execute_result",
          "data": {
            "text/plain": [
              "GaussianNB(priors=None, var_smoothing=1e-09)"
            ]
          },
          "metadata": {
            "tags": []
          },
          "execution_count": 36
        }
      ]
    },
    {
      "cell_type": "markdown",
      "metadata": {
        "id": "ip9-58jkX1zi"
      },
      "source": [
        "Cross Validation Training Set"
      ]
    },
    {
      "cell_type": "code",
      "metadata": {
        "colab": {
          "base_uri": "https://localhost:8080/"
        },
        "id": "MWcPJpWXXyGX",
        "outputId": "bc72e717-4aca-4ea8-d58c-6eea2ab19c05"
      },
      "source": [
        "accuracies = cross_val_score(estimator = nb, X = x_train, y = y_train, cv = 10)\n",
        "print(\"Accuracy: {:.2f} %\".format(accuracies.mean()*100))\n",
        "print(\"Standard Deviation: {:.2f} %\".format(accuracies.std()*100))"
      ],
      "execution_count": null,
      "outputs": [
        {
          "output_type": "stream",
          "text": [
            "Accuracy: 61.15 %\n",
            "Standard Deviation: 3.29 %\n"
          ],
          "name": "stdout"
        }
      ]
    },
    {
      "cell_type": "markdown",
      "metadata": {
        "id": "A299ZTitX-e7"
      },
      "source": [
        "Test Set Performance"
      ]
    },
    {
      "cell_type": "code",
      "metadata": {
        "id": "vQhMUImVX6YJ"
      },
      "source": [
        "y_pred = nb.predict(x_test)"
      ],
      "execution_count": null,
      "outputs": []
    },
    {
      "cell_type": "code",
      "metadata": {
        "colab": {
          "base_uri": "https://localhost:8080/"
        },
        "id": "5AxheYe5YDD9",
        "outputId": "f8ebfafb-a84c-4248-8fb5-c803635521d6"
      },
      "source": [
        "cm = confusion_matrix(y_test, y_pred)\n",
        "print(cm)\n",
        "accuracy_score(y_test, y_pred)"
      ],
      "execution_count": null,
      "outputs": [
        {
          "output_type": "stream",
          "text": [
            "[[482 253]\n",
            " [ 52  63]]\n"
          ],
          "name": "stdout"
        },
        {
          "output_type": "execute_result",
          "data": {
            "text/plain": [
              "0.6411764705882353"
            ]
          },
          "metadata": {
            "tags": []
          },
          "execution_count": 39
        }
      ]
    },
    {
      "cell_type": "markdown",
      "metadata": {
        "id": "VrnMUstmYE5n"
      },
      "source": [
        "__________________"
      ]
    },
    {
      "cell_type": "markdown",
      "metadata": {
        "id": "Zy71Ntl8Zpwl"
      },
      "source": [
        "### *7. Random Forest*"
      ]
    },
    {
      "cell_type": "code",
      "metadata": {
        "colab": {
          "base_uri": "https://localhost:8080/"
        },
        "id": "WuQC3dtKYDwp",
        "outputId": "6e75c1ec-6c2f-4cf3-80f3-77d8ee5dda19"
      },
      "source": [
        "random_forest = RandomForestClassifier(n_estimators = 10, criterion = 'entropy', random_state = 0)\n",
        "random_forest.fit(x_train, y_train)"
      ],
      "execution_count": null,
      "outputs": [
        {
          "output_type": "execute_result",
          "data": {
            "text/plain": [
              "RandomForestClassifier(bootstrap=True, ccp_alpha=0.0, class_weight=None,\n",
              "                       criterion='entropy', max_depth=None, max_features='auto',\n",
              "                       max_leaf_nodes=None, max_samples=None,\n",
              "                       min_impurity_decrease=0.0, min_impurity_split=None,\n",
              "                       min_samples_leaf=1, min_samples_split=2,\n",
              "                       min_weight_fraction_leaf=0.0, n_estimators=10,\n",
              "                       n_jobs=None, oob_score=False, random_state=0, verbose=0,\n",
              "                       warm_start=False)"
            ]
          },
          "metadata": {
            "tags": []
          },
          "execution_count": 41
        }
      ]
    },
    {
      "cell_type": "markdown",
      "metadata": {
        "id": "lHtwzepgaghB"
      },
      "source": [
        "Cross Validation Training Set"
      ]
    },
    {
      "cell_type": "code",
      "metadata": {
        "colab": {
          "base_uri": "https://localhost:8080/"
        },
        "id": "_4Xgco70adzh",
        "outputId": "69b3df95-681c-4c42-9178-3babc2ee2c27"
      },
      "source": [
        "accuracies = cross_val_score(estimator = random_forest, X = x_train, y = y_train, cv = 10)\n",
        "print(\"Accuracy: {:.2f} %\".format(accuracies.mean()*100))\n",
        "print(\"Standard Deviation: {:.2f} %\".format(accuracies.std()*100))"
      ],
      "execution_count": null,
      "outputs": [
        {
          "output_type": "stream",
          "text": [
            "Accuracy: 93.50 %\n",
            "Standard Deviation: 0.99 %\n"
          ],
          "name": "stdout"
        }
      ]
    },
    {
      "cell_type": "markdown",
      "metadata": {
        "id": "CUE_qH9_aoFl"
      },
      "source": [
        "Test Set Performance"
      ]
    },
    {
      "cell_type": "code",
      "metadata": {
        "id": "Hx1iPWnUakxy"
      },
      "source": [
        "y_pred = random_forest.predict(x_test)"
      ],
      "execution_count": null,
      "outputs": []
    },
    {
      "cell_type": "code",
      "metadata": {
        "colab": {
          "base_uri": "https://localhost:8080/"
        },
        "id": "o2KBPDv5arRt",
        "outputId": "a6cdda93-9862-49ca-dff0-d15c942b1fba"
      },
      "source": [
        "cm = confusion_matrix(y_test, y_pred)\n",
        "print(cm)\n",
        "accuracy_score(y_test, y_pred)"
      ],
      "execution_count": null,
      "outputs": [
        {
          "output_type": "stream",
          "text": [
            "[[733   2]\n",
            " [ 47  68]]\n"
          ],
          "name": "stdout"
        },
        {
          "output_type": "execute_result",
          "data": {
            "text/plain": [
              "0.9423529411764706"
            ]
          },
          "metadata": {
            "tags": []
          },
          "execution_count": 44
        }
      ]
    },
    {
      "cell_type": "markdown",
      "metadata": {
        "id": "uQkuIQ0PawQn"
      },
      "source": [
        "_____________________"
      ]
    },
    {
      "cell_type": "markdown",
      "metadata": {
        "id": "B9J-mcEGbRZy"
      },
      "source": [
        "### *8. SVM*"
      ]
    },
    {
      "cell_type": "code",
      "metadata": {
        "colab": {
          "base_uri": "https://localhost:8080/"
        },
        "id": "wGmyFVKPat5n",
        "outputId": "aa9c1262-f99a-489e-8375-bb78d902a595"
      },
      "source": [
        "svc = SVC(kernel = 'linear', random_state = 0)\n",
        "svc.fit(x_train, y_train)"
      ],
      "execution_count": null,
      "outputs": [
        {
          "output_type": "execute_result",
          "data": {
            "text/plain": [
              "SVC(C=1.0, break_ties=False, cache_size=200, class_weight=None, coef0=0.0,\n",
              "    decision_function_shape='ovr', degree=3, gamma='scale', kernel='linear',\n",
              "    max_iter=-1, probability=False, random_state=0, shrinking=True, tol=0.001,\n",
              "    verbose=False)"
            ]
          },
          "metadata": {
            "tags": []
          },
          "execution_count": 47
        }
      ]
    },
    {
      "cell_type": "markdown",
      "metadata": {
        "id": "EArsiawBcCV3"
      },
      "source": [
        "Cross Validation Training Set"
      ]
    },
    {
      "cell_type": "code",
      "metadata": {
        "colab": {
          "base_uri": "https://localhost:8080/"
        },
        "id": "uwxplUJKcAIz",
        "outputId": "37c3b817-414a-49ae-b3c2-6a3d8fac207c"
      },
      "source": [
        "accuracies = cross_val_score(estimator = svc, X = x_train, y = y_train, cv = 10)\n",
        "print(\"Accuracy: {:.2f} %\".format(accuracies.mean()*100))\n",
        "print(\"Standard Deviation: {:.2f} %\".format(accuracies.std()*100))"
      ],
      "execution_count": null,
      "outputs": [
        {
          "output_type": "stream",
          "text": [
            "Accuracy: 85.79 %\n",
            "Standard Deviation: 0.13 %\n"
          ],
          "name": "stdout"
        }
      ]
    },
    {
      "cell_type": "markdown",
      "metadata": {
        "id": "L_eQVKIbcM5T"
      },
      "source": [
        "Test Set Performance"
      ]
    },
    {
      "cell_type": "code",
      "metadata": {
        "id": "eKYcMxFvcJNZ"
      },
      "source": [
        "y_pred = svc.predict(x_test)"
      ],
      "execution_count": null,
      "outputs": []
    },
    {
      "cell_type": "code",
      "metadata": {
        "colab": {
          "base_uri": "https://localhost:8080/"
        },
        "id": "rabSK8vtcRgs",
        "outputId": "95b3e9da-031e-49d2-d4f7-f5909b43d2f4"
      },
      "source": [
        "cm = confusion_matrix(y_test, y_pred)\n",
        "print(cm)\n",
        "accuracy_score(y_test, y_pred)"
      ],
      "execution_count": null,
      "outputs": [
        {
          "output_type": "stream",
          "text": [
            "[[735   0]\n",
            " [115   0]]\n"
          ],
          "name": "stdout"
        },
        {
          "output_type": "execute_result",
          "data": {
            "text/plain": [
              "0.8647058823529412"
            ]
          },
          "metadata": {
            "tags": []
          },
          "execution_count": 50
        }
      ]
    },
    {
      "cell_type": "markdown",
      "metadata": {
        "id": "7K_2Cfc3cic2"
      },
      "source": [
        "___________________"
      ]
    },
    {
      "cell_type": "markdown",
      "metadata": {
        "id": "c4BO_JFzcmCL"
      },
      "source": [
        "### *9. Kernel SVM*"
      ]
    },
    {
      "cell_type": "code",
      "metadata": {
        "colab": {
          "base_uri": "https://localhost:8080/"
        },
        "id": "TrFkckQzcTku",
        "outputId": "aa381883-8335-43f2-b6eb-429adc55aeb8"
      },
      "source": [
        "kernel_svc = SVC(kernel = 'rbf', random_state = 0)\n",
        "kernel_svc.fit(x_train, y_train)"
      ],
      "execution_count": null,
      "outputs": [
        {
          "output_type": "execute_result",
          "data": {
            "text/plain": [
              "SVC(C=1.0, break_ties=False, cache_size=200, class_weight=None, coef0=0.0,\n",
              "    decision_function_shape='ovr', degree=3, gamma='scale', kernel='rbf',\n",
              "    max_iter=-1, probability=False, random_state=0, shrinking=True, tol=0.001,\n",
              "    verbose=False)"
            ]
          },
          "metadata": {
            "tags": []
          },
          "execution_count": 51
        }
      ]
    },
    {
      "cell_type": "markdown",
      "metadata": {
        "id": "jv4-E1-vc1ox"
      },
      "source": [
        "Cross Validation Training Set"
      ]
    },
    {
      "cell_type": "code",
      "metadata": {
        "colab": {
          "base_uri": "https://localhost:8080/"
        },
        "id": "zS0MJm_jcyhH",
        "outputId": "6623aeb0-5546-418d-c56c-5cd85cef5bf6"
      },
      "source": [
        "accuracies = cross_val_score(estimator = kernel_svc, X = x_train, y = y_train, cv = 10)\n",
        "print(\"Accuracy: {:.2f} %\".format(accuracies.mean()*100))\n",
        "print(\"Standard Deviation: {:.2f} %\".format(accuracies.std()*100))"
      ],
      "execution_count": null,
      "outputs": [
        {
          "output_type": "stream",
          "text": [
            "Accuracy: 90.94 %\n",
            "Standard Deviation: 0.76 %\n"
          ],
          "name": "stdout"
        }
      ]
    },
    {
      "cell_type": "markdown",
      "metadata": {
        "id": "Y5ipz1jmdSvJ"
      },
      "source": [
        "Test Set Performance"
      ]
    },
    {
      "cell_type": "code",
      "metadata": {
        "id": "lnNAOIbXdOwb"
      },
      "source": [
        "y_pred = kernel_svc.predict(x_test)"
      ],
      "execution_count": null,
      "outputs": []
    },
    {
      "cell_type": "code",
      "metadata": {
        "colab": {
          "base_uri": "https://localhost:8080/"
        },
        "id": "qPVF-XLHdjEY",
        "outputId": "a6bdd1f9-7c60-4094-fdd5-718dc585ae11"
      },
      "source": [
        "cm = confusion_matrix(y_test, y_pred)\n",
        "print(cm)\n",
        "accuracy_score(y_test, y_pred)"
      ],
      "execution_count": null,
      "outputs": [
        {
          "output_type": "stream",
          "text": [
            "[[732   3]\n",
            " [ 58  57]]\n"
          ],
          "name": "stdout"
        },
        {
          "output_type": "execute_result",
          "data": {
            "text/plain": [
              "0.928235294117647"
            ]
          },
          "metadata": {
            "tags": []
          },
          "execution_count": 54
        }
      ]
    },
    {
      "cell_type": "markdown",
      "metadata": {
        "id": "4Mb3tZ5NeNN4"
      },
      "source": [
        "_____________________"
      ]
    },
    {
      "cell_type": "markdown",
      "metadata": {
        "id": "KV6aEZCaeQRj"
      },
      "source": [
        "### *10. ANN*"
      ]
    },
    {
      "cell_type": "code",
      "metadata": {
        "id": "GjwqiWxleDJW"
      },
      "source": [
        "ann = tf.keras.models.Sequential()\n",
        "#adding input layer and hidden layer\n",
        "ann.add(tf.keras.layers.Dense(units=6, activation='relu'))\n",
        "#adding second hidden layer\n",
        "ann.add(tf.keras.layers.Dense(units=6, activation='relu'))\n",
        "#adding the output layer\n",
        "ann.add(tf.keras.layers.Dense(units=1, activation='sigmoid'))"
      ],
      "execution_count": null,
      "outputs": []
    },
    {
      "cell_type": "code",
      "metadata": {
        "id": "-N4oPDAgefXW"
      },
      "source": [
        "#compiling the ann\n",
        "ann.compile(optimizer = 'adam', loss = 'binary_crossentropy', metrics = ['accuracy'])"
      ],
      "execution_count": null,
      "outputs": []
    },
    {
      "cell_type": "code",
      "metadata": {
        "colab": {
          "base_uri": "https://localhost:8080/"
        },
        "id": "UHuSJ4CFe1XD",
        "outputId": "543d0567-e0ca-41c1-fa8d-60abb341631d"
      },
      "source": [
        "#Training ANN\n",
        "ann.fit(x_train, y_train, batch_size = 32, epochs = 100)"
      ],
      "execution_count": null,
      "outputs": [
        {
          "output_type": "stream",
          "text": [
            "Epoch 1/100\n",
            "107/107 [==============================] - 1s 1ms/step - loss: 0.5759 - accuracy: 0.7947\n",
            "Epoch 2/100\n",
            "107/107 [==============================] - 0s 1ms/step - loss: 0.4273 - accuracy: 0.8440\n",
            "Epoch 3/100\n",
            "107/107 [==============================] - 0s 1ms/step - loss: 0.3743 - accuracy: 0.8486\n",
            "Epoch 4/100\n",
            "107/107 [==============================] - 0s 1ms/step - loss: 0.3386 - accuracy: 0.8591\n",
            "Epoch 5/100\n",
            "107/107 [==============================] - 0s 1ms/step - loss: 0.3214 - accuracy: 0.8598\n",
            "Epoch 6/100\n",
            "107/107 [==============================] - 0s 1ms/step - loss: 0.2900 - accuracy: 0.8652\n",
            "Epoch 7/100\n",
            "107/107 [==============================] - 0s 1ms/step - loss: 0.2917 - accuracy: 0.8724\n",
            "Epoch 8/100\n",
            "107/107 [==============================] - 0s 1ms/step - loss: 0.2533 - accuracy: 0.8986\n",
            "Epoch 9/100\n",
            "107/107 [==============================] - 0s 1ms/step - loss: 0.2411 - accuracy: 0.9097\n",
            "Epoch 10/100\n",
            "107/107 [==============================] - 0s 1ms/step - loss: 0.2516 - accuracy: 0.9025\n",
            "Epoch 11/100\n",
            "107/107 [==============================] - 0s 1ms/step - loss: 0.2401 - accuracy: 0.9105\n",
            "Epoch 12/100\n",
            "107/107 [==============================] - 0s 1ms/step - loss: 0.2358 - accuracy: 0.9183\n",
            "Epoch 13/100\n",
            "107/107 [==============================] - 0s 1ms/step - loss: 0.2093 - accuracy: 0.9183\n",
            "Epoch 14/100\n",
            "107/107 [==============================] - 0s 1ms/step - loss: 0.2253 - accuracy: 0.9208\n",
            "Epoch 15/100\n",
            "107/107 [==============================] - 0s 1ms/step - loss: 0.2324 - accuracy: 0.9145\n",
            "Epoch 16/100\n",
            "107/107 [==============================] - 0s 2ms/step - loss: 0.1951 - accuracy: 0.9308\n",
            "Epoch 17/100\n",
            "107/107 [==============================] - 0s 1ms/step - loss: 0.2128 - accuracy: 0.9275\n",
            "Epoch 18/100\n",
            "107/107 [==============================] - 0s 1ms/step - loss: 0.2042 - accuracy: 0.9269\n",
            "Epoch 19/100\n",
            "107/107 [==============================] - 0s 1ms/step - loss: 0.2039 - accuracy: 0.9256\n",
            "Epoch 20/100\n",
            "107/107 [==============================] - 0s 1ms/step - loss: 0.2071 - accuracy: 0.9288\n",
            "Epoch 21/100\n",
            "107/107 [==============================] - 0s 1ms/step - loss: 0.1939 - accuracy: 0.9310\n",
            "Epoch 22/100\n",
            "107/107 [==============================] - 0s 1ms/step - loss: 0.2051 - accuracy: 0.9284\n",
            "Epoch 23/100\n",
            "107/107 [==============================] - 0s 1ms/step - loss: 0.1919 - accuracy: 0.9300\n",
            "Epoch 24/100\n",
            "107/107 [==============================] - 0s 1ms/step - loss: 0.2038 - accuracy: 0.9306\n",
            "Epoch 25/100\n",
            "107/107 [==============================] - 0s 1ms/step - loss: 0.1905 - accuracy: 0.9336\n",
            "Epoch 26/100\n",
            "107/107 [==============================] - 0s 1ms/step - loss: 0.1896 - accuracy: 0.9293\n",
            "Epoch 27/100\n",
            "107/107 [==============================] - 0s 1ms/step - loss: 0.2023 - accuracy: 0.9241\n",
            "Epoch 28/100\n",
            "107/107 [==============================] - 0s 1ms/step - loss: 0.1744 - accuracy: 0.9380\n",
            "Epoch 29/100\n",
            "107/107 [==============================] - 0s 1ms/step - loss: 0.1830 - accuracy: 0.9340\n",
            "Epoch 30/100\n",
            "107/107 [==============================] - 0s 2ms/step - loss: 0.1978 - accuracy: 0.9306\n",
            "Epoch 31/100\n",
            "107/107 [==============================] - 0s 1ms/step - loss: 0.1766 - accuracy: 0.9404\n",
            "Epoch 32/100\n",
            "107/107 [==============================] - 0s 2ms/step - loss: 0.2003 - accuracy: 0.9288\n",
            "Epoch 33/100\n",
            "107/107 [==============================] - 0s 1ms/step - loss: 0.2070 - accuracy: 0.9268\n",
            "Epoch 34/100\n",
            "107/107 [==============================] - 0s 1ms/step - loss: 0.1931 - accuracy: 0.9312\n",
            "Epoch 35/100\n",
            "107/107 [==============================] - 0s 1ms/step - loss: 0.1949 - accuracy: 0.9283\n",
            "Epoch 36/100\n",
            "107/107 [==============================] - 0s 1ms/step - loss: 0.1633 - accuracy: 0.9432\n",
            "Epoch 37/100\n",
            "107/107 [==============================] - 0s 1ms/step - loss: 0.1917 - accuracy: 0.9342\n",
            "Epoch 38/100\n",
            "107/107 [==============================] - 0s 1ms/step - loss: 0.1786 - accuracy: 0.9335\n",
            "Epoch 39/100\n",
            "107/107 [==============================] - 0s 1ms/step - loss: 0.1740 - accuracy: 0.9400\n",
            "Epoch 40/100\n",
            "107/107 [==============================] - 0s 1ms/step - loss: 0.1797 - accuracy: 0.9354\n",
            "Epoch 41/100\n",
            "107/107 [==============================] - 0s 1ms/step - loss: 0.1790 - accuracy: 0.9392\n",
            "Epoch 42/100\n",
            "107/107 [==============================] - 0s 1ms/step - loss: 0.1799 - accuracy: 0.9383\n",
            "Epoch 43/100\n",
            "107/107 [==============================] - 0s 1ms/step - loss: 0.1652 - accuracy: 0.9403\n",
            "Epoch 44/100\n",
            "107/107 [==============================] - 0s 2ms/step - loss: 0.1872 - accuracy: 0.9338\n",
            "Epoch 45/100\n",
            "107/107 [==============================] - 0s 1ms/step - loss: 0.1923 - accuracy: 0.9338\n",
            "Epoch 46/100\n",
            "107/107 [==============================] - 0s 1ms/step - loss: 0.1868 - accuracy: 0.9390\n",
            "Epoch 47/100\n",
            "107/107 [==============================] - 0s 1ms/step - loss: 0.1707 - accuracy: 0.9400\n",
            "Epoch 48/100\n",
            "107/107 [==============================] - 0s 1ms/step - loss: 0.1885 - accuracy: 0.9338\n",
            "Epoch 49/100\n",
            "107/107 [==============================] - 0s 1ms/step - loss: 0.1659 - accuracy: 0.9429\n",
            "Epoch 50/100\n",
            "107/107 [==============================] - 0s 1ms/step - loss: 0.1775 - accuracy: 0.9363\n",
            "Epoch 51/100\n",
            "107/107 [==============================] - 0s 1ms/step - loss: 0.1745 - accuracy: 0.9390\n",
            "Epoch 52/100\n",
            "107/107 [==============================] - 0s 1ms/step - loss: 0.1886 - accuracy: 0.9396\n",
            "Epoch 53/100\n",
            "107/107 [==============================] - 0s 1ms/step - loss: 0.2008 - accuracy: 0.9310\n",
            "Epoch 54/100\n",
            "107/107 [==============================] - 0s 1ms/step - loss: 0.1736 - accuracy: 0.9391\n",
            "Epoch 55/100\n",
            "107/107 [==============================] - 0s 1ms/step - loss: 0.1737 - accuracy: 0.9416\n",
            "Epoch 56/100\n",
            "107/107 [==============================] - 0s 1ms/step - loss: 0.1831 - accuracy: 0.9392\n",
            "Epoch 57/100\n",
            "107/107 [==============================] - 0s 1ms/step - loss: 0.1740 - accuracy: 0.9408\n",
            "Epoch 58/100\n",
            "107/107 [==============================] - 0s 1ms/step - loss: 0.1747 - accuracy: 0.9392\n",
            "Epoch 59/100\n",
            "107/107 [==============================] - 0s 1ms/step - loss: 0.1459 - accuracy: 0.9503\n",
            "Epoch 60/100\n",
            "107/107 [==============================] - 0s 1ms/step - loss: 0.1794 - accuracy: 0.9391\n",
            "Epoch 61/100\n",
            "107/107 [==============================] - 0s 1ms/step - loss: 0.1746 - accuracy: 0.9370\n",
            "Epoch 62/100\n",
            "107/107 [==============================] - 0s 1ms/step - loss: 0.1670 - accuracy: 0.9419\n",
            "Epoch 63/100\n",
            "107/107 [==============================] - 0s 1ms/step - loss: 0.1674 - accuracy: 0.9422\n",
            "Epoch 64/100\n",
            "107/107 [==============================] - 0s 2ms/step - loss: 0.1665 - accuracy: 0.9438\n",
            "Epoch 65/100\n",
            "107/107 [==============================] - 0s 1ms/step - loss: 0.1523 - accuracy: 0.9440\n",
            "Epoch 66/100\n",
            "107/107 [==============================] - 0s 2ms/step - loss: 0.1651 - accuracy: 0.9448\n",
            "Epoch 67/100\n",
            "107/107 [==============================] - 0s 1ms/step - loss: 0.1512 - accuracy: 0.9487\n",
            "Epoch 68/100\n",
            "107/107 [==============================] - 0s 1ms/step - loss: 0.1807 - accuracy: 0.9345\n",
            "Epoch 69/100\n",
            "107/107 [==============================] - 0s 1ms/step - loss: 0.1657 - accuracy: 0.9450\n",
            "Epoch 70/100\n",
            "107/107 [==============================] - 0s 1ms/step - loss: 0.1620 - accuracy: 0.9487\n",
            "Epoch 71/100\n",
            "107/107 [==============================] - 0s 2ms/step - loss: 0.1663 - accuracy: 0.9435\n",
            "Epoch 72/100\n",
            "107/107 [==============================] - 0s 1ms/step - loss: 0.1448 - accuracy: 0.9529\n",
            "Epoch 73/100\n",
            "107/107 [==============================] - 0s 1ms/step - loss: 0.1601 - accuracy: 0.9480\n",
            "Epoch 74/100\n",
            "107/107 [==============================] - 0s 1ms/step - loss: 0.1771 - accuracy: 0.9391\n",
            "Epoch 75/100\n",
            "107/107 [==============================] - 0s 1ms/step - loss: 0.1601 - accuracy: 0.9447\n",
            "Epoch 76/100\n",
            "107/107 [==============================] - 0s 1ms/step - loss: 0.1513 - accuracy: 0.9442\n",
            "Epoch 77/100\n",
            "107/107 [==============================] - 0s 2ms/step - loss: 0.1524 - accuracy: 0.9441\n",
            "Epoch 78/100\n",
            "107/107 [==============================] - 0s 2ms/step - loss: 0.1431 - accuracy: 0.9556\n",
            "Epoch 79/100\n",
            "107/107 [==============================] - 0s 1ms/step - loss: 0.1593 - accuracy: 0.9495\n",
            "Epoch 80/100\n",
            "107/107 [==============================] - 0s 1ms/step - loss: 0.1621 - accuracy: 0.9469\n",
            "Epoch 81/100\n",
            "107/107 [==============================] - 0s 1ms/step - loss: 0.1640 - accuracy: 0.9447\n",
            "Epoch 82/100\n",
            "107/107 [==============================] - 0s 1ms/step - loss: 0.1572 - accuracy: 0.9484\n",
            "Epoch 83/100\n",
            "107/107 [==============================] - 0s 1ms/step - loss: 0.1676 - accuracy: 0.9413\n",
            "Epoch 84/100\n",
            "107/107 [==============================] - 0s 1ms/step - loss: 0.1484 - accuracy: 0.9457\n",
            "Epoch 85/100\n",
            "107/107 [==============================] - 0s 1ms/step - loss: 0.1575 - accuracy: 0.9492\n",
            "Epoch 86/100\n",
            "107/107 [==============================] - 0s 1ms/step - loss: 0.1452 - accuracy: 0.9549\n",
            "Epoch 87/100\n",
            "107/107 [==============================] - 0s 1ms/step - loss: 0.1555 - accuracy: 0.9466\n",
            "Epoch 88/100\n",
            "107/107 [==============================] - 0s 2ms/step - loss: 0.1471 - accuracy: 0.9493\n",
            "Epoch 89/100\n",
            "107/107 [==============================] - 0s 1ms/step - loss: 0.1398 - accuracy: 0.9558\n",
            "Epoch 90/100\n",
            "107/107 [==============================] - 0s 1ms/step - loss: 0.1415 - accuracy: 0.9495\n",
            "Epoch 91/100\n",
            "107/107 [==============================] - 0s 1ms/step - loss: 0.1494 - accuracy: 0.9496\n",
            "Epoch 92/100\n",
            "107/107 [==============================] - 0s 1ms/step - loss: 0.1424 - accuracy: 0.9510\n",
            "Epoch 93/100\n",
            "107/107 [==============================] - 0s 2ms/step - loss: 0.1489 - accuracy: 0.9475\n",
            "Epoch 94/100\n",
            "107/107 [==============================] - 0s 1ms/step - loss: 0.1355 - accuracy: 0.9555\n",
            "Epoch 95/100\n",
            "107/107 [==============================] - 0s 1ms/step - loss: 0.1536 - accuracy: 0.9490\n",
            "Epoch 96/100\n",
            "107/107 [==============================] - 0s 1ms/step - loss: 0.1493 - accuracy: 0.9497\n",
            "Epoch 97/100\n",
            "107/107 [==============================] - 0s 1ms/step - loss: 0.1328 - accuracy: 0.9548\n",
            "Epoch 98/100\n",
            "107/107 [==============================] - 0s 2ms/step - loss: 0.1434 - accuracy: 0.9521\n",
            "Epoch 99/100\n",
            "107/107 [==============================] - 0s 1ms/step - loss: 0.1463 - accuracy: 0.9494\n",
            "Epoch 100/100\n",
            "107/107 [==============================] - 0s 1ms/step - loss: 0.1394 - accuracy: 0.9502\n"
          ],
          "name": "stdout"
        },
        {
          "output_type": "execute_result",
          "data": {
            "text/plain": [
              "<tensorflow.python.keras.callbacks.History at 0x7f75fe147518>"
            ]
          },
          "metadata": {
            "tags": []
          },
          "execution_count": 60
        }
      ]
    },
    {
      "cell_type": "markdown",
      "metadata": {
        "id": "V9i8kfwOfdXY"
      },
      "source": [
        "Test Set Performance"
      ]
    },
    {
      "cell_type": "code",
      "metadata": {
        "id": "AvNFnRr1fheR"
      },
      "source": [
        "y_pred = (ann.predict(x_test) > 0.5).astype(int)"
      ],
      "execution_count": null,
      "outputs": []
    },
    {
      "cell_type": "code",
      "metadata": {
        "colab": {
          "base_uri": "https://localhost:8080/"
        },
        "id": "ynAJFNmLfrkU",
        "outputId": "4ad240fd-6e04-4b5a-a643-37d8fb89bebb"
      },
      "source": [
        "cm = confusion_matrix(y_test, y_pred)\n",
        "print(cm)\n",
        "accuracy_score(y_test, y_pred)"
      ],
      "execution_count": null,
      "outputs": [
        {
          "output_type": "stream",
          "text": [
            "[[714  21]\n",
            " [ 37  78]]\n"
          ],
          "name": "stdout"
        },
        {
          "output_type": "execute_result",
          "data": {
            "text/plain": [
              "0.9317647058823529"
            ]
          },
          "metadata": {
            "tags": []
          },
          "execution_count": 70
        }
      ]
    }
  ]
}
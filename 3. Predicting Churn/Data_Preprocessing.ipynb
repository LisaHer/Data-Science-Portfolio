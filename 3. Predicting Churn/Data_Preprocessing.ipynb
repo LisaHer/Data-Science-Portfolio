{
  "nbformat": 4,
  "nbformat_minor": 0,
  "metadata": {
    "colab": {
      "name": "Data Preprocessing",
      "provenance": [],
      "collapsed_sections": []
    },
    "kernelspec": {
      "name": "python3",
      "display_name": "Python 3"
    }
  },
  "cells": [
    {
      "cell_type": "markdown",
      "metadata": {
        "id": "ynMFlzzi57ff"
      },
      "source": [
        "# **Data Preprocessing**"
      ]
    },
    {
      "cell_type": "markdown",
      "metadata": {
        "id": "h6xCUklA5_do"
      },
      "source": [
        "### *1. Importing libraries and data*"
      ]
    },
    {
      "cell_type": "code",
      "metadata": {
        "id": "5EibIoSj5-Na"
      },
      "source": [
        "import numpy as np\n",
        "import pandas as pd\n",
        "from google.colab import drive\n",
        "from sklearn.impute import SimpleImputer\n",
        "from sklearn.preprocessing import OneHotEncoder, LabelEncoder, StandardScaler\n",
        "from sklearn.model_selection import train_test_split"
      ],
      "execution_count": null,
      "outputs": []
    },
    {
      "cell_type": "code",
      "metadata": {
        "colab": {
          "base_uri": "https://localhost:8080/"
        },
        "id": "T7k7pRFu6I27",
        "outputId": "fa87e5f6-7aea-431d-958b-f9f9a3052f96"
      },
      "source": [
        "drive.mount('/content/drive')\n",
        "%cd /content/drive/My\\ Drive/2.\\ Career\\ Development/Data\\ Science/4.\\ Data\\ Science\\ Projects/Predicting\\ Churn/Data"
      ],
      "execution_count": null,
      "outputs": [
        {
          "output_type": "stream",
          "text": [
            "Drive already mounted at /content/drive; to attempt to forcibly remount, call drive.mount(\"/content/drive\", force_remount=True).\n",
            "/content/drive/My Drive/2. Career Development/Data Science/4. Data Science Projects/Predicting Churn/Data\n"
          ],
          "name": "stdout"
        }
      ]
    },
    {
      "cell_type": "code",
      "metadata": {
        "id": "tdYIbpnxUpT6"
      },
      "source": [
        "data = pd.read_csv('data.csv')"
      ],
      "execution_count": null,
      "outputs": []
    },
    {
      "cell_type": "markdown",
      "metadata": {
        "id": "mj6PCIuKzw82"
      },
      "source": [
        "____________"
      ]
    },
    {
      "cell_type": "markdown",
      "metadata": {
        "id": "1RIqK7X9zzth"
      },
      "source": [
        "### *2. Correcting data types*\n",
        "* The data fields are in the correct format."
      ]
    },
    {
      "cell_type": "code",
      "metadata": {
        "id": "O51y0O9QWCvg"
      },
      "source": [
        "#Convert pd df to numpy array\n",
        "data_values = data.values"
      ],
      "execution_count": null,
      "outputs": []
    },
    {
      "cell_type": "markdown",
      "metadata": {
        "id": "1sAwLCb4XW4q"
      },
      "source": [
        "____________"
      ]
    },
    {
      "cell_type": "markdown",
      "metadata": {
        "id": "PtN6IUVbYU6y"
      },
      "source": [
        "### *3. Missing data*\n",
        "\n",
        "* Both in the numeric and categorical columns values are missing.\n",
        "* Missing categorical values will be replaced with the string constant '**missing_values**'\n",
        "* Missing numeric values will be replaced by the **mean**."
      ]
    },
    {
      "cell_type": "markdown",
      "metadata": {
        "id": "LOqWoHqI1eTv"
      },
      "source": [
        "**3.1 Missing Values per Column**"
      ]
    },
    {
      "cell_type": "code",
      "metadata": {
        "colab": {
          "base_uri": "https://localhost:8080/"
        },
        "id": "CHPb1LhTZWA1",
        "outputId": "2a2acf24-8797-416c-98de-087a36b174fc"
      },
      "source": [
        "pd.set_option('display.max_rows', 81)\n",
        "missing_records= data.isnull().sum().sort_values(ascending = False)\n",
        "cols_with_missing = missing_records[missing_records > 0]\n",
        "cols_with_missing"
      ],
      "execution_count": null,
      "outputs": [
        {
          "output_type": "execute_result",
          "data": {
            "text/plain": [
              "Series([], dtype: int64)"
            ]
          },
          "metadata": {
            "tags": []
          },
          "execution_count": 10
        }
      ]
    },
    {
      "cell_type": "markdown",
      "metadata": {
        "id": "Ff4BBq5RAjCp"
      },
      "source": [
        "No missing values"
      ]
    },
    {
      "cell_type": "markdown",
      "metadata": {
        "id": "_n-_ITqa4UcG"
      },
      "source": [
        "__________"
      ]
    },
    {
      "cell_type": "markdown",
      "metadata": {
        "id": "KIg7wr9JXgIS"
      },
      "source": [
        "### *4. Encoding Categorical Variables*"
      ]
    },
    {
      "cell_type": "markdown",
      "metadata": {
        "id": "aWD63OJSPuUU"
      },
      "source": [
        "**4.1 Identifying Categorical Variables**\n",
        "* After reinserting np array into a pd df all data types are 'object'.\n",
        "* To fix this the data types are corrected in the below step."
      ]
    },
    {
      "cell_type": "code",
      "metadata": {
        "id": "R5e5TlU9pOq4"
      },
      "source": [
        "int_types = [index for index, value in data.dtypes.iteritems() if str(data[index].dtypes)  == 'int64']\n",
        "for i in int_types:\n",
        "  convert_dict = {i: 'int64'}\n",
        "  data = data.astype(convert_dict)\n",
        "\n",
        "float_types = [index for index, value in data.dtypes.iteritems() if str(data[index].dtypes)  == 'float64']\n",
        "for i in float_types:\n",
        "  convert_dict = {i: 'float64'}\n",
        "  data = data.astype(convert_dict)\n",
        "\n",
        "object_dtypes = [index for index, value in data.dtypes.iteritems() if str(data[index].dtypes) == 'object']\n",
        "for i in object_dtypes:\n",
        "  convert_dict = {i: 'string'}\n",
        "  data = data.astype(convert_dict)"
      ],
      "execution_count": null,
      "outputs": []
    },
    {
      "cell_type": "markdown",
      "metadata": {
        "id": "EaSBc7XSPz4Q"
      },
      "source": [
        "**4.2 Encoding Independent Categorical Variables**\n",
        "* Encoding categorical variables to dummy variables using one hot encoding."
      ]
    },
    {
      "cell_type": "code",
      "metadata": {
        "id": "crim1GRD6ZqK"
      },
      "source": [
        "index_categorical = [index for index, val in data.dtypes.iteritems() if str(val) == 'string'][:-1]\n",
        "enc = OneHotEncoder(handle_unknown = 'ignore')\n",
        "data_v2 = data\n",
        "\n",
        "for i in index_categorical:\n",
        "  col_names = [i+j for j in data[i].unique()]\n",
        "  col_names.sort()\n",
        "  enc_df = pd.DataFrame(enc.fit_transform(data[[i]]).toarray(), columns = col_names)\n",
        "  data_v2 = data_v2.join(enc_df)\n",
        "  del data_v2[i]"
      ],
      "execution_count": null,
      "outputs": []
    },
    {
      "cell_type": "code",
      "metadata": {
        "colab": {
          "base_uri": "https://localhost:8080/",
          "height": 211
        },
        "id": "5eOBhIaEDAPY",
        "outputId": "94da5dcf-69c3-47e9-8bb7-25c422992470"
      },
      "source": [
        "data_v2[data_v2.columns[16:]].head()"
      ],
      "execution_count": null,
      "outputs": [
        {
          "output_type": "execute_result",
          "data": {
            "text/html": [
              "<div>\n",
              "<style scoped>\n",
              "    .dataframe tbody tr th:only-of-type {\n",
              "        vertical-align: middle;\n",
              "    }\n",
              "\n",
              "    .dataframe tbody tr th {\n",
              "        vertical-align: top;\n",
              "    }\n",
              "\n",
              "    .dataframe thead th {\n",
              "        text-align: right;\n",
              "    }\n",
              "</style>\n",
              "<table border=\"1\" class=\"dataframe\">\n",
              "  <thead>\n",
              "    <tr style=\"text-align: right;\">\n",
              "      <th></th>\n",
              "      <th>stateAK</th>\n",
              "      <th>stateAL</th>\n",
              "      <th>stateAR</th>\n",
              "      <th>stateAZ</th>\n",
              "      <th>stateCA</th>\n",
              "      <th>stateCO</th>\n",
              "      <th>stateCT</th>\n",
              "      <th>stateDC</th>\n",
              "      <th>stateDE</th>\n",
              "      <th>stateFL</th>\n",
              "      <th>stateGA</th>\n",
              "      <th>stateHI</th>\n",
              "      <th>stateIA</th>\n",
              "      <th>stateID</th>\n",
              "      <th>stateIL</th>\n",
              "      <th>stateIN</th>\n",
              "      <th>stateKS</th>\n",
              "      <th>stateKY</th>\n",
              "      <th>stateLA</th>\n",
              "      <th>stateMA</th>\n",
              "      <th>stateMD</th>\n",
              "      <th>stateME</th>\n",
              "      <th>stateMI</th>\n",
              "      <th>stateMN</th>\n",
              "      <th>stateMO</th>\n",
              "      <th>stateMS</th>\n",
              "      <th>stateMT</th>\n",
              "      <th>stateNC</th>\n",
              "      <th>stateND</th>\n",
              "      <th>stateNE</th>\n",
              "      <th>stateNH</th>\n",
              "      <th>stateNJ</th>\n",
              "      <th>stateNM</th>\n",
              "      <th>stateNV</th>\n",
              "      <th>stateNY</th>\n",
              "      <th>stateOH</th>\n",
              "      <th>stateOK</th>\n",
              "      <th>stateOR</th>\n",
              "      <th>statePA</th>\n",
              "      <th>stateRI</th>\n",
              "      <th>stateSC</th>\n",
              "      <th>stateSD</th>\n",
              "      <th>stateTN</th>\n",
              "      <th>stateTX</th>\n",
              "      <th>stateUT</th>\n",
              "      <th>stateVA</th>\n",
              "      <th>stateVT</th>\n",
              "      <th>stateWA</th>\n",
              "      <th>stateWI</th>\n",
              "      <th>stateWV</th>\n",
              "      <th>stateWY</th>\n",
              "      <th>area_codearea_code_408</th>\n",
              "      <th>area_codearea_code_415</th>\n",
              "      <th>area_codearea_code_510</th>\n",
              "      <th>international_planno</th>\n",
              "      <th>international_planyes</th>\n",
              "      <th>voice_mail_planno</th>\n",
              "      <th>voice_mail_planyes</th>\n",
              "    </tr>\n",
              "  </thead>\n",
              "  <tbody>\n",
              "    <tr>\n",
              "      <th>0</th>\n",
              "      <td>0.0</td>\n",
              "      <td>0.0</td>\n",
              "      <td>0.0</td>\n",
              "      <td>0.0</td>\n",
              "      <td>0.0</td>\n",
              "      <td>0.0</td>\n",
              "      <td>0.0</td>\n",
              "      <td>0.0</td>\n",
              "      <td>0.0</td>\n",
              "      <td>0.0</td>\n",
              "      <td>0.0</td>\n",
              "      <td>0.0</td>\n",
              "      <td>0.0</td>\n",
              "      <td>0.0</td>\n",
              "      <td>0.0</td>\n",
              "      <td>0.0</td>\n",
              "      <td>0.0</td>\n",
              "      <td>0.0</td>\n",
              "      <td>0.0</td>\n",
              "      <td>0.0</td>\n",
              "      <td>0.0</td>\n",
              "      <td>0.0</td>\n",
              "      <td>0.0</td>\n",
              "      <td>0.0</td>\n",
              "      <td>0.0</td>\n",
              "      <td>0.0</td>\n",
              "      <td>0.0</td>\n",
              "      <td>0.0</td>\n",
              "      <td>0.0</td>\n",
              "      <td>0.0</td>\n",
              "      <td>0.0</td>\n",
              "      <td>0.0</td>\n",
              "      <td>0.0</td>\n",
              "      <td>0.0</td>\n",
              "      <td>0.0</td>\n",
              "      <td>1.0</td>\n",
              "      <td>0.0</td>\n",
              "      <td>0.0</td>\n",
              "      <td>0.0</td>\n",
              "      <td>0.0</td>\n",
              "      <td>0.0</td>\n",
              "      <td>0.0</td>\n",
              "      <td>0.0</td>\n",
              "      <td>0.0</td>\n",
              "      <td>0.0</td>\n",
              "      <td>0.0</td>\n",
              "      <td>0.0</td>\n",
              "      <td>0.0</td>\n",
              "      <td>0.0</td>\n",
              "      <td>0.0</td>\n",
              "      <td>0.0</td>\n",
              "      <td>0.0</td>\n",
              "      <td>1.0</td>\n",
              "      <td>0.0</td>\n",
              "      <td>1.0</td>\n",
              "      <td>0.0</td>\n",
              "      <td>0.0</td>\n",
              "      <td>1.0</td>\n",
              "    </tr>\n",
              "    <tr>\n",
              "      <th>1</th>\n",
              "      <td>0.0</td>\n",
              "      <td>0.0</td>\n",
              "      <td>0.0</td>\n",
              "      <td>0.0</td>\n",
              "      <td>0.0</td>\n",
              "      <td>0.0</td>\n",
              "      <td>0.0</td>\n",
              "      <td>0.0</td>\n",
              "      <td>0.0</td>\n",
              "      <td>0.0</td>\n",
              "      <td>0.0</td>\n",
              "      <td>0.0</td>\n",
              "      <td>0.0</td>\n",
              "      <td>0.0</td>\n",
              "      <td>0.0</td>\n",
              "      <td>0.0</td>\n",
              "      <td>0.0</td>\n",
              "      <td>0.0</td>\n",
              "      <td>0.0</td>\n",
              "      <td>0.0</td>\n",
              "      <td>0.0</td>\n",
              "      <td>0.0</td>\n",
              "      <td>0.0</td>\n",
              "      <td>0.0</td>\n",
              "      <td>0.0</td>\n",
              "      <td>0.0</td>\n",
              "      <td>0.0</td>\n",
              "      <td>0.0</td>\n",
              "      <td>0.0</td>\n",
              "      <td>0.0</td>\n",
              "      <td>0.0</td>\n",
              "      <td>1.0</td>\n",
              "      <td>0.0</td>\n",
              "      <td>0.0</td>\n",
              "      <td>0.0</td>\n",
              "      <td>0.0</td>\n",
              "      <td>0.0</td>\n",
              "      <td>0.0</td>\n",
              "      <td>0.0</td>\n",
              "      <td>0.0</td>\n",
              "      <td>0.0</td>\n",
              "      <td>0.0</td>\n",
              "      <td>0.0</td>\n",
              "      <td>0.0</td>\n",
              "      <td>0.0</td>\n",
              "      <td>0.0</td>\n",
              "      <td>0.0</td>\n",
              "      <td>0.0</td>\n",
              "      <td>0.0</td>\n",
              "      <td>0.0</td>\n",
              "      <td>0.0</td>\n",
              "      <td>0.0</td>\n",
              "      <td>1.0</td>\n",
              "      <td>0.0</td>\n",
              "      <td>1.0</td>\n",
              "      <td>0.0</td>\n",
              "      <td>1.0</td>\n",
              "      <td>0.0</td>\n",
              "    </tr>\n",
              "    <tr>\n",
              "      <th>2</th>\n",
              "      <td>0.0</td>\n",
              "      <td>0.0</td>\n",
              "      <td>0.0</td>\n",
              "      <td>0.0</td>\n",
              "      <td>0.0</td>\n",
              "      <td>0.0</td>\n",
              "      <td>0.0</td>\n",
              "      <td>0.0</td>\n",
              "      <td>0.0</td>\n",
              "      <td>0.0</td>\n",
              "      <td>0.0</td>\n",
              "      <td>0.0</td>\n",
              "      <td>0.0</td>\n",
              "      <td>0.0</td>\n",
              "      <td>0.0</td>\n",
              "      <td>0.0</td>\n",
              "      <td>0.0</td>\n",
              "      <td>0.0</td>\n",
              "      <td>0.0</td>\n",
              "      <td>0.0</td>\n",
              "      <td>0.0</td>\n",
              "      <td>0.0</td>\n",
              "      <td>0.0</td>\n",
              "      <td>0.0</td>\n",
              "      <td>0.0</td>\n",
              "      <td>0.0</td>\n",
              "      <td>0.0</td>\n",
              "      <td>0.0</td>\n",
              "      <td>0.0</td>\n",
              "      <td>0.0</td>\n",
              "      <td>0.0</td>\n",
              "      <td>0.0</td>\n",
              "      <td>0.0</td>\n",
              "      <td>0.0</td>\n",
              "      <td>0.0</td>\n",
              "      <td>1.0</td>\n",
              "      <td>0.0</td>\n",
              "      <td>0.0</td>\n",
              "      <td>0.0</td>\n",
              "      <td>0.0</td>\n",
              "      <td>0.0</td>\n",
              "      <td>0.0</td>\n",
              "      <td>0.0</td>\n",
              "      <td>0.0</td>\n",
              "      <td>0.0</td>\n",
              "      <td>0.0</td>\n",
              "      <td>0.0</td>\n",
              "      <td>0.0</td>\n",
              "      <td>0.0</td>\n",
              "      <td>0.0</td>\n",
              "      <td>0.0</td>\n",
              "      <td>1.0</td>\n",
              "      <td>0.0</td>\n",
              "      <td>0.0</td>\n",
              "      <td>0.0</td>\n",
              "      <td>1.0</td>\n",
              "      <td>1.0</td>\n",
              "      <td>0.0</td>\n",
              "    </tr>\n",
              "    <tr>\n",
              "      <th>3</th>\n",
              "      <td>0.0</td>\n",
              "      <td>0.0</td>\n",
              "      <td>0.0</td>\n",
              "      <td>0.0</td>\n",
              "      <td>0.0</td>\n",
              "      <td>0.0</td>\n",
              "      <td>0.0</td>\n",
              "      <td>0.0</td>\n",
              "      <td>0.0</td>\n",
              "      <td>0.0</td>\n",
              "      <td>0.0</td>\n",
              "      <td>0.0</td>\n",
              "      <td>0.0</td>\n",
              "      <td>0.0</td>\n",
              "      <td>0.0</td>\n",
              "      <td>0.0</td>\n",
              "      <td>0.0</td>\n",
              "      <td>0.0</td>\n",
              "      <td>0.0</td>\n",
              "      <td>0.0</td>\n",
              "      <td>0.0</td>\n",
              "      <td>0.0</td>\n",
              "      <td>0.0</td>\n",
              "      <td>0.0</td>\n",
              "      <td>0.0</td>\n",
              "      <td>0.0</td>\n",
              "      <td>0.0</td>\n",
              "      <td>0.0</td>\n",
              "      <td>0.0</td>\n",
              "      <td>0.0</td>\n",
              "      <td>0.0</td>\n",
              "      <td>0.0</td>\n",
              "      <td>0.0</td>\n",
              "      <td>0.0</td>\n",
              "      <td>0.0</td>\n",
              "      <td>0.0</td>\n",
              "      <td>1.0</td>\n",
              "      <td>0.0</td>\n",
              "      <td>0.0</td>\n",
              "      <td>0.0</td>\n",
              "      <td>0.0</td>\n",
              "      <td>0.0</td>\n",
              "      <td>0.0</td>\n",
              "      <td>0.0</td>\n",
              "      <td>0.0</td>\n",
              "      <td>0.0</td>\n",
              "      <td>0.0</td>\n",
              "      <td>0.0</td>\n",
              "      <td>0.0</td>\n",
              "      <td>0.0</td>\n",
              "      <td>0.0</td>\n",
              "      <td>0.0</td>\n",
              "      <td>1.0</td>\n",
              "      <td>0.0</td>\n",
              "      <td>0.0</td>\n",
              "      <td>1.0</td>\n",
              "      <td>1.0</td>\n",
              "      <td>0.0</td>\n",
              "    </tr>\n",
              "    <tr>\n",
              "      <th>4</th>\n",
              "      <td>0.0</td>\n",
              "      <td>0.0</td>\n",
              "      <td>0.0</td>\n",
              "      <td>0.0</td>\n",
              "      <td>0.0</td>\n",
              "      <td>0.0</td>\n",
              "      <td>0.0</td>\n",
              "      <td>0.0</td>\n",
              "      <td>0.0</td>\n",
              "      <td>0.0</td>\n",
              "      <td>0.0</td>\n",
              "      <td>0.0</td>\n",
              "      <td>0.0</td>\n",
              "      <td>0.0</td>\n",
              "      <td>0.0</td>\n",
              "      <td>0.0</td>\n",
              "      <td>0.0</td>\n",
              "      <td>0.0</td>\n",
              "      <td>0.0</td>\n",
              "      <td>1.0</td>\n",
              "      <td>0.0</td>\n",
              "      <td>0.0</td>\n",
              "      <td>0.0</td>\n",
              "      <td>0.0</td>\n",
              "      <td>0.0</td>\n",
              "      <td>0.0</td>\n",
              "      <td>0.0</td>\n",
              "      <td>0.0</td>\n",
              "      <td>0.0</td>\n",
              "      <td>0.0</td>\n",
              "      <td>0.0</td>\n",
              "      <td>0.0</td>\n",
              "      <td>0.0</td>\n",
              "      <td>0.0</td>\n",
              "      <td>0.0</td>\n",
              "      <td>0.0</td>\n",
              "      <td>0.0</td>\n",
              "      <td>0.0</td>\n",
              "      <td>0.0</td>\n",
              "      <td>0.0</td>\n",
              "      <td>0.0</td>\n",
              "      <td>0.0</td>\n",
              "      <td>0.0</td>\n",
              "      <td>0.0</td>\n",
              "      <td>0.0</td>\n",
              "      <td>0.0</td>\n",
              "      <td>0.0</td>\n",
              "      <td>0.0</td>\n",
              "      <td>0.0</td>\n",
              "      <td>0.0</td>\n",
              "      <td>0.0</td>\n",
              "      <td>0.0</td>\n",
              "      <td>0.0</td>\n",
              "      <td>1.0</td>\n",
              "      <td>1.0</td>\n",
              "      <td>0.0</td>\n",
              "      <td>0.0</td>\n",
              "      <td>1.0</td>\n",
              "    </tr>\n",
              "  </tbody>\n",
              "</table>\n",
              "</div>"
            ],
            "text/plain": [
              "   stateAK  stateAL  ...  voice_mail_planno  voice_mail_planyes\n",
              "0      0.0      0.0  ...                0.0                 1.0\n",
              "1      0.0      0.0  ...                1.0                 0.0\n",
              "2      0.0      0.0  ...                1.0                 0.0\n",
              "3      0.0      0.0  ...                1.0                 0.0\n",
              "4      0.0      0.0  ...                0.0                 1.0\n",
              "\n",
              "[5 rows x 58 columns]"
            ]
          },
          "metadata": {
            "tags": []
          },
          "execution_count": 115
        }
      ]
    },
    {
      "cell_type": "markdown",
      "metadata": {
        "id": "B7OHWW8JH-BG"
      },
      "source": [
        "**4.3 Encoding Dependent Categorical Variables**\n",
        "* Encoding categorical dependent variables to dummy variables using the label encoder."
      ]
    },
    {
      "cell_type": "code",
      "metadata": {
        "id": "mcAEHh4LITsY"
      },
      "source": [
        "le = LabelEncoder()\n",
        "enc_label = pd.DataFrame(le.fit_transform(data[['churn']].values.ravel()), columns = ['churn'])\n",
        "data_v2 = data_v2.drop('churn', axis = 1)\n",
        "data_v3 = data_v2.join(enc_label)"
      ],
      "execution_count": null,
      "outputs": []
    },
    {
      "cell_type": "markdown",
      "metadata": {
        "id": "FigRyUg15WjX"
      },
      "source": [
        "_______________"
      ]
    },
    {
      "cell_type": "markdown",
      "metadata": {
        "id": "I_w77oump5s0"
      },
      "source": [
        "### *5. Feature Scaling*\n",
        "\n"
      ]
    },
    {
      "cell_type": "markdown",
      "metadata": {
        "id": "FuC2tnSC6L6r"
      },
      "source": [
        "**5.1 Feature Scaling**\n",
        "*   Scaling numeric values (located in cols 0-19) using standardization."
      ]
    },
    {
      "cell_type": "code",
      "metadata": {
        "id": "Dcy5rBi-p_PG"
      },
      "source": [
        "sc = StandardScaler()\n",
        "scaled = sc.fit_transform(data_v3.values[:, :15])\n",
        "data_v4 = pd.DataFrame(data = scaled, columns = data_v3.columns[:15])"
      ],
      "execution_count": null,
      "outputs": []
    },
    {
      "cell_type": "code",
      "metadata": {
        "id": "ZAWhr4YltQmx",
        "colab": {
          "base_uri": "https://localhost:8080/",
          "height": 211
        },
        "outputId": "5f059d7e-e672-4ecd-ff5d-4e534e303e4f"
      },
      "source": [
        "data_v4.head()"
      ],
      "execution_count": null,
      "outputs": [
        {
          "output_type": "execute_result",
          "data": {
            "text/html": [
              "<div>\n",
              "<style scoped>\n",
              "    .dataframe tbody tr th:only-of-type {\n",
              "        vertical-align: middle;\n",
              "    }\n",
              "\n",
              "    .dataframe tbody tr th {\n",
              "        vertical-align: top;\n",
              "    }\n",
              "\n",
              "    .dataframe thead th {\n",
              "        text-align: right;\n",
              "    }\n",
              "</style>\n",
              "<table border=\"1\" class=\"dataframe\">\n",
              "  <thead>\n",
              "    <tr style=\"text-align: right;\">\n",
              "      <th></th>\n",
              "      <th>account_length</th>\n",
              "      <th>number_vmail_messages</th>\n",
              "      <th>total_day_minutes</th>\n",
              "      <th>total_day_calls</th>\n",
              "      <th>total_day_charge</th>\n",
              "      <th>total_eve_minutes</th>\n",
              "      <th>total_eve_calls</th>\n",
              "      <th>total_eve_charge</th>\n",
              "      <th>total_night_minutes</th>\n",
              "      <th>total_night_calls</th>\n",
              "      <th>total_night_charge</th>\n",
              "      <th>total_intl_minutes</th>\n",
              "      <th>total_intl_calls</th>\n",
              "      <th>total_intl_charge</th>\n",
              "      <th>number_customer_service_calls</th>\n",
              "    </tr>\n",
              "  </thead>\n",
              "  <tbody>\n",
              "    <tr>\n",
              "      <th>0</th>\n",
              "      <td>0.170399</td>\n",
              "      <td>1.366857</td>\n",
              "      <td>-0.345510</td>\n",
              "      <td>1.163449</td>\n",
              "      <td>-0.345788</td>\n",
              "      <td>-0.093025</td>\n",
              "      <td>0.141841</td>\n",
              "      <td>-0.092493</td>\n",
              "      <td>1.070003</td>\n",
              "      <td>0.157309</td>\n",
              "      <td>1.070820</td>\n",
              "      <td>1.247901</td>\n",
              "      <td>-0.579164</td>\n",
              "      <td>1.248591</td>\n",
              "      <td>-0.426346</td>\n",
              "    </tr>\n",
              "    <tr>\n",
              "      <th>1</th>\n",
              "      <td>0.926186</td>\n",
              "      <td>-0.567911</td>\n",
              "      <td>1.169136</td>\n",
              "      <td>0.710014</td>\n",
              "      <td>1.169295</td>\n",
              "      <td>-1.571820</td>\n",
              "      <td>0.493490</td>\n",
              "      <td>-1.572341</td>\n",
              "      <td>-0.753320</td>\n",
              "      <td>0.207083</td>\n",
              "      <td>-0.752053</td>\n",
              "      <td>0.704379</td>\n",
              "      <td>0.232927</td>\n",
              "      <td>0.698342</td>\n",
              "      <td>-1.188960</td>\n",
              "    </tr>\n",
              "    <tr>\n",
              "      <th>2</th>\n",
              "      <td>-0.409038</td>\n",
              "      <td>-0.567911</td>\n",
              "      <td>2.206058</td>\n",
              "      <td>-1.456398</td>\n",
              "      <td>2.206218</td>\n",
              "      <td>-2.752070</td>\n",
              "      <td>-0.611691</td>\n",
              "      <td>-2.752473</td>\n",
              "      <td>-0.072057</td>\n",
              "      <td>-0.539526</td>\n",
              "      <td>-0.072337</td>\n",
              "      <td>-1.324770</td>\n",
              "      <td>1.045017</td>\n",
              "      <td>-1.328187</td>\n",
              "      <td>0.336268</td>\n",
              "    </tr>\n",
              "    <tr>\n",
              "      <th>3</th>\n",
              "      <td>-0.635774</td>\n",
              "      <td>-0.567911</td>\n",
              "      <td>-0.251076</td>\n",
              "      <td>0.659633</td>\n",
              "      <td>-0.251027</td>\n",
              "      <td>-1.032448</td>\n",
              "      <td>1.096316</td>\n",
              "      <td>-1.031447</td>\n",
              "      <td>-0.270676</td>\n",
              "      <td>1.053239</td>\n",
              "      <td>-0.270956</td>\n",
              "      <td>-0.056552</td>\n",
              "      <td>-0.579164</td>\n",
              "      <td>-0.053219</td>\n",
              "      <td>1.098882</td>\n",
              "    </tr>\n",
              "    <tr>\n",
              "      <th>4</th>\n",
              "      <td>0.523099</td>\n",
              "      <td>1.218029</td>\n",
              "      <td>0.702522</td>\n",
              "      <td>-0.599910</td>\n",
              "      <td>0.702027</td>\n",
              "      <td>2.952139</td>\n",
              "      <td>0.393019</td>\n",
              "      <td>2.951497</td>\n",
              "      <td>0.239775</td>\n",
              "      <td>0.903917</td>\n",
              "      <td>0.241038</td>\n",
              "      <td>-0.998657</td>\n",
              "      <td>1.045017</td>\n",
              "      <td>-0.992669</td>\n",
              "      <td>1.098882</td>\n",
              "    </tr>\n",
              "  </tbody>\n",
              "</table>\n",
              "</div>"
            ],
            "text/plain": [
              "   account_length  ...  number_customer_service_calls\n",
              "0        0.170399  ...                      -0.426346\n",
              "1        0.926186  ...                      -1.188960\n",
              "2       -0.409038  ...                       0.336268\n",
              "3       -0.635774  ...                       1.098882\n",
              "4        0.523099  ...                       1.098882\n",
              "\n",
              "[5 rows x 15 columns]"
            ]
          },
          "metadata": {
            "tags": []
          },
          "execution_count": 122
        }
      ]
    },
    {
      "cell_type": "markdown",
      "metadata": {
        "id": "8udSgIQu6gdL"
      },
      "source": [
        "**5.2 Joining Scaled DF to Base DF**\n",
        "* Joining the scaled numeric df with the one hot encoded categorical columns of data_v3."
      ]
    },
    {
      "cell_type": "code",
      "metadata": {
        "id": "GzWU_Z0a6D-o"
      },
      "source": [
        "data_v5 = data_v4.join(data_v3[data_v3.columns[15:]])"
      ],
      "execution_count": null,
      "outputs": []
    },
    {
      "cell_type": "markdown",
      "metadata": {
        "id": "qa86ucSr62BV"
      },
      "source": [
        "_____________"
      ]
    },
    {
      "cell_type": "markdown",
      "metadata": {
        "id": "i86iejCMQWKu"
      },
      "source": [
        "### *6. Exporting Data Sets*"
      ]
    },
    {
      "cell_type": "markdown",
      "metadata": {
        "id": "a9IaXFu-I1-K"
      },
      "source": [
        "**6.1 Scaled Data Set**"
      ]
    },
    {
      "cell_type": "code",
      "metadata": {
        "colab": {
          "base_uri": "https://localhost:8080/"
        },
        "id": "SV6VrUbCGD2s",
        "outputId": "5a13cd6c-01b1-453f-b6d4-a9ad78c84fd6"
      },
      "source": [
        "%cd /content/drive/My\\ Drive/2.\\ Career\\ Development/Data\\ Science/4.\\ Data\\ Science\\ Projects/Predicting\\ Churn/"
      ],
      "execution_count": null,
      "outputs": [
        {
          "output_type": "stream",
          "text": [
            "/content/drive/My Drive/2. Career Development/Data Science/4. Data Science Projects/Predicting Churn\n"
          ],
          "name": "stdout"
        }
      ]
    },
    {
      "cell_type": "code",
      "metadata": {
        "id": "-qYJ9oRCI8im"
      },
      "source": [
        "data_v5.to_csv('predicting_churn.csv')"
      ],
      "execution_count": null,
      "outputs": []
    },
    {
      "cell_type": "code",
      "metadata": {
        "id": "oKL24JXCNiNc"
      },
      "source": [
        ""
      ],
      "execution_count": null,
      "outputs": []
    }
  ]
}
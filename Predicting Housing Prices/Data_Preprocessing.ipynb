{
  "nbformat": 4,
  "nbformat_minor": 0,
  "metadata": {
    "colab": {
      "name": "Data Preprocessing",
      "provenance": [],
      "collapsed_sections": []
    },
    "kernelspec": {
      "name": "python3",
      "display_name": "Python 3"
    }
  },
  "cells": [
    {
      "cell_type": "markdown",
      "metadata": {
        "id": "ynMFlzzi57ff"
      },
      "source": [
        "# **Data Preprocessing**"
      ]
    },
    {
      "cell_type": "markdown",
      "metadata": {
        "id": "h6xCUklA5_do"
      },
      "source": [
        "### *1. Importing libraries and data*"
      ]
    },
    {
      "cell_type": "code",
      "metadata": {
        "id": "5EibIoSj5-Na"
      },
      "source": [
        "import numpy as np\n",
        "import pandas as pd\n",
        "from google.colab import drive\n",
        "from sklearn.impute import SimpleImputer\n",
        "from sklearn.preprocessing import OneHotEncoder, StandardScaler\n",
        "from sklearn.model_selection import train_test_split"
      ],
      "execution_count": null,
      "outputs": []
    },
    {
      "cell_type": "code",
      "metadata": {
        "colab": {
          "base_uri": "https://localhost:8080/"
        },
        "id": "T7k7pRFu6I27",
        "outputId": "40645228-1476-40ca-f067-b739ccca6734"
      },
      "source": [
        "drive.mount('/content/drive')\n",
        "%cd /content/drive/My\\ Drive/2.\\ Career\\ Development/Data\\ Science/4.\\ Data\\ Science\\ Projects/Predicting\\ Housing\\ Prices/Data"
      ],
      "execution_count": null,
      "outputs": [
        {
          "output_type": "stream",
          "text": [
            "Mounted at /content/drive\n",
            "/content/drive/My Drive/2. Career Development/Data Science/4. Data Science Projects/Predicting Housing Prices/Data\n"
          ],
          "name": "stdout"
        }
      ]
    },
    {
      "cell_type": "code",
      "metadata": {
        "id": "tdYIbpnxUpT6"
      },
      "source": [
        "data = pd.read_csv('data.csv')"
      ],
      "execution_count": null,
      "outputs": []
    },
    {
      "cell_type": "markdown",
      "metadata": {
        "id": "mj6PCIuKzw82"
      },
      "source": [
        "____________"
      ]
    },
    {
      "cell_type": "markdown",
      "metadata": {
        "id": "1RIqK7X9zzth"
      },
      "source": [
        "### *2. Correcting data types*\n",
        "* Some data (eg ID) is stored in the df as numeric but should be a category. \n",
        "* To correct this the respective data fields are cast to object."
      ]
    },
    {
      "cell_type": "code",
      "metadata": {
        "id": "M5EGVGeSpEsK"
      },
      "source": [
        "convert_dict = {'Id': 'object',\n",
        "               'MSSubClass': 'object',\n",
        "               'OverallQual': 'object',\n",
        "               'OverallCond': 'object',\n",
        "               'YearBuilt': 'object',\n",
        "               'YearRemodAdd': 'object',\n",
        "               'GarageYrBlt': 'object',\n",
        "               'YrSold': 'object',\n",
        "               'MoSold': 'object'\n",
        "              }\n",
        "\n",
        "data = data.astype(convert_dict)"
      ],
      "execution_count": null,
      "outputs": []
    },
    {
      "cell_type": "code",
      "metadata": {
        "id": "O51y0O9QWCvg"
      },
      "source": [
        "#Convert pd df to numpy array\n",
        "data_values = data.values"
      ],
      "execution_count": null,
      "outputs": []
    },
    {
      "cell_type": "markdown",
      "metadata": {
        "id": "1sAwLCb4XW4q"
      },
      "source": [
        "____________"
      ]
    },
    {
      "cell_type": "markdown",
      "metadata": {
        "id": "PtN6IUVbYU6y"
      },
      "source": [
        "### *3. Missing data*\n",
        "\n",
        "* Both in the numeric and categorical columns values are missing.\n",
        "* Missing categorical values will be replaced with the string constant '**missing_values**'\n",
        "* Missing numeric values will be replaced by the **mean**."
      ]
    },
    {
      "cell_type": "markdown",
      "metadata": {
        "id": "LOqWoHqI1eTv"
      },
      "source": [
        "**3.1 Missing Values per Column**"
      ]
    },
    {
      "cell_type": "code",
      "metadata": {
        "colab": {
          "base_uri": "https://localhost:8080/"
        },
        "id": "CHPb1LhTZWA1",
        "outputId": "e383de64-6cff-4e9c-8e90-b87742929298"
      },
      "source": [
        "pd.set_option('display.max_rows', 81)\n",
        "missing_records= data.isnull().sum().sort_values(ascending = False)\n",
        "cols_with_missing = missing_records[missing_records > 0]\n",
        "cols_with_missing"
      ],
      "execution_count": null,
      "outputs": [
        {
          "output_type": "execute_result",
          "data": {
            "text/plain": [
              "PoolQC          1453\n",
              "MiscFeature     1406\n",
              "Alley           1369\n",
              "Fence           1179\n",
              "FireplaceQu      690\n",
              "LotFrontage      259\n",
              "GarageCond        81\n",
              "GarageType        81\n",
              "GarageYrBlt       81\n",
              "GarageFinish      81\n",
              "GarageQual        81\n",
              "BsmtExposure      38\n",
              "BsmtFinType2      38\n",
              "BsmtFinType1      37\n",
              "BsmtCond          37\n",
              "BsmtQual          37\n",
              "MasVnrArea         8\n",
              "MasVnrType         8\n",
              "Electrical         1\n",
              "dtype: int64"
            ]
          },
          "metadata": {
            "tags": []
          },
          "execution_count": 7
        }
      ]
    },
    {
      "cell_type": "markdown",
      "metadata": {
        "id": "bA16qKD81oD2"
      },
      "source": [
        "**3.2 Replacing Missing Values**"
      ]
    },
    {
      "cell_type": "code",
      "metadata": {
        "id": "FMd2nN-K6aqy"
      },
      "source": [
        "# Replacing categorical values with string constant\n",
        "missing_categorical=[data.columns.get_loc(index) for index, value in cols_with_missing.iteritems() if str(data[index].dtypes) == 'object']\n",
        "imputer_string = SimpleImputer(missing_values = np.nan, strategy = 'constant')\n",
        "imputer_string.fit(data_values[:,missing_categorical])\n",
        "data_values[:,missing_categorical] = imputer_string.transform(data_values[:,missing_categorical])"
      ],
      "execution_count": null,
      "outputs": []
    },
    {
      "cell_type": "code",
      "metadata": {
        "id": "zWrZ3eht_pKu"
      },
      "source": [
        "# Replacing numeric values with mean\n",
        "missing_numeric=[data.columns.get_loc(index) for index, value in cols_with_missing.iteritems() if str(data[index].dtypes) == 'float64']\n",
        "imputer_numeric = SimpleImputer(missing_values = np.nan, strategy = 'mean')\n",
        "imputer_numeric.fit(data_values[:,missing_numeric])\n",
        "data_values[:,missing_numeric] = imputer_numeric.transform(data_values[:,missing_numeric])"
      ],
      "execution_count": null,
      "outputs": []
    },
    {
      "cell_type": "code",
      "metadata": {
        "id": "fcLkQkDV1UX3"
      },
      "source": [
        "data_v2 = pd.DataFrame(data = data_values, columns = data.columns)"
      ],
      "execution_count": null,
      "outputs": []
    },
    {
      "cell_type": "markdown",
      "metadata": {
        "id": "9ydgiLSI2cUu"
      },
      "source": [
        "**3.3 Checking for remaining missing values**"
      ]
    },
    {
      "cell_type": "code",
      "metadata": {
        "colab": {
          "base_uri": "https://localhost:8080/"
        },
        "id": "bFsFmoUc1RPR",
        "outputId": "2163c7fe-f5f4-4b16-eae3-73d0eac0ce09"
      },
      "source": [
        "pd.set_option('display.max_rows', 81)\n",
        "missing_records= data_v2.isnull().sum().sort_values(ascending = False)\n",
        "cols_with_missing = missing_records[missing_records > 0]\n",
        "cols_with_missing"
      ],
      "execution_count": null,
      "outputs": [
        {
          "output_type": "execute_result",
          "data": {
            "text/plain": [
              "Series([], dtype: int64)"
            ]
          },
          "metadata": {
            "tags": []
          },
          "execution_count": 11
        }
      ]
    },
    {
      "cell_type": "markdown",
      "metadata": {
        "id": "_n-_ITqa4UcG"
      },
      "source": [
        "__________"
      ]
    },
    {
      "cell_type": "markdown",
      "metadata": {
        "id": "KIg7wr9JXgIS"
      },
      "source": [
        "### *4. Encoding Categorical Variables*"
      ]
    },
    {
      "cell_type": "markdown",
      "metadata": {
        "id": "aWD63OJSPuUU"
      },
      "source": [
        "**4.1 Identifying Categorical Variables**\n",
        "* After reinserting np array into a pd df all data types are 'object'.\n",
        "* To fix this the data types are corrected in the below step."
      ]
    },
    {
      "cell_type": "code",
      "metadata": {
        "id": "R5e5TlU9pOq4"
      },
      "source": [
        "int_types = [index for index, value in data.dtypes.iteritems() if str(data[index].dtypes)  == 'int64']\n",
        "for i in int_types:\n",
        "  convert_dict = {i: 'int64'}\n",
        "  data_v2 = data_v2.astype(convert_dict)\n",
        "\n",
        "float_types = [index for index, value in data.dtypes.iteritems() if str(data[index].dtypes)  == 'float64']\n",
        "for i in float_types:\n",
        "  convert_dict = {i: 'float64'}\n",
        "  data_v2 = data_v2.astype(convert_dict)\n",
        "\n",
        "object_dtypes = [index for index, value in data_v2.dtypes.iteritems() if str(data_v2[index].dtypes) == 'object']\n",
        "for i in object_dtypes:\n",
        "  convert_dict = {i: 'string'}\n",
        "  data_v2 = data_v2.astype(convert_dict)"
      ],
      "execution_count": null,
      "outputs": []
    },
    {
      "cell_type": "markdown",
      "metadata": {
        "id": "EaSBc7XSPz4Q"
      },
      "source": [
        "**4.2 Encoding Categorical Variables**\n",
        "* Encoding categorical variables to dummy variables using one hot encoding."
      ]
    },
    {
      "cell_type": "code",
      "metadata": {
        "id": "crim1GRD6ZqK"
      },
      "source": [
        "index_categorical = [index for index, val in data_v2.dtypes.iteritems() if str(val) == 'string'][1:]\n",
        "enc = OneHotEncoder(handle_unknown = 'ignore')\n",
        "data_v3 = data_v2\n",
        "\n",
        "for i in index_categorical:\n",
        "  col_names = [i+j for j in data_v2[i].unique()]\n",
        "  col_names.sort()\n",
        "  enc_df = pd.DataFrame(enc.fit_transform(data_v2[[i]]).toarray(), columns = col_names)\n",
        "  data_v3 = data_v3.join(enc_df)\n",
        "  del data_v3[i]"
      ],
      "execution_count": null,
      "outputs": []
    },
    {
      "cell_type": "code",
      "metadata": {
        "colab": {
          "base_uri": "https://localhost:8080/",
          "height": 255
        },
        "id": "hTlC5fIj5G_Z",
        "outputId": "aa1b1071-b5f0-4b12-de1e-bb185a53013f"
      },
      "source": [
        "data_v3[data_v3.columns[30:]].head()"
      ],
      "execution_count": null,
      "outputs": [
        {
          "output_type": "execute_result",
          "data": {
            "text/html": [
              "<div>\n",
              "<style scoped>\n",
              "    .dataframe tbody tr th:only-of-type {\n",
              "        vertical-align: middle;\n",
              "    }\n",
              "\n",
              "    .dataframe tbody tr th {\n",
              "        vertical-align: top;\n",
              "    }\n",
              "\n",
              "    .dataframe thead th {\n",
              "        text-align: right;\n",
              "    }\n",
              "</style>\n",
              "<table border=\"1\" class=\"dataframe\">\n",
              "  <thead>\n",
              "    <tr style=\"text-align: right;\">\n",
              "      <th></th>\n",
              "      <th>MSSubClass120</th>\n",
              "      <th>MSSubClass160</th>\n",
              "      <th>MSSubClass180</th>\n",
              "      <th>MSSubClass190</th>\n",
              "      <th>MSSubClass20</th>\n",
              "      <th>MSSubClass30</th>\n",
              "      <th>MSSubClass40</th>\n",
              "      <th>MSSubClass45</th>\n",
              "      <th>MSSubClass50</th>\n",
              "      <th>MSSubClass60</th>\n",
              "      <th>MSSubClass70</th>\n",
              "      <th>MSSubClass75</th>\n",
              "      <th>MSSubClass80</th>\n",
              "      <th>MSSubClass85</th>\n",
              "      <th>MSSubClass90</th>\n",
              "      <th>MSZoningC (all)</th>\n",
              "      <th>MSZoningFV</th>\n",
              "      <th>MSZoningRH</th>\n",
              "      <th>MSZoningRL</th>\n",
              "      <th>MSZoningRM</th>\n",
              "      <th>StreetGrvl</th>\n",
              "      <th>StreetPave</th>\n",
              "      <th>AlleyGrvl</th>\n",
              "      <th>AlleyPave</th>\n",
              "      <th>Alleymissing_value</th>\n",
              "      <th>LotShapeIR1</th>\n",
              "      <th>LotShapeIR2</th>\n",
              "      <th>LotShapeIR3</th>\n",
              "      <th>LotShapeReg</th>\n",
              "      <th>LandContourBnk</th>\n",
              "      <th>LandContourHLS</th>\n",
              "      <th>LandContourLow</th>\n",
              "      <th>LandContourLvl</th>\n",
              "      <th>UtilitiesAllPub</th>\n",
              "      <th>UtilitiesNoSeWa</th>\n",
              "      <th>LotConfigCorner</th>\n",
              "      <th>LotConfigCulDSac</th>\n",
              "      <th>LotConfigFR2</th>\n",
              "      <th>LotConfigFR3</th>\n",
              "      <th>LotConfigInside</th>\n",
              "      <th>...</th>\n",
              "      <th>FenceMnPrv</th>\n",
              "      <th>FenceMnWw</th>\n",
              "      <th>Fencemissing_value</th>\n",
              "      <th>MiscFeatureGar2</th>\n",
              "      <th>MiscFeatureOthr</th>\n",
              "      <th>MiscFeatureShed</th>\n",
              "      <th>MiscFeatureTenC</th>\n",
              "      <th>MiscFeaturemissing_value</th>\n",
              "      <th>MoSold1</th>\n",
              "      <th>MoSold10</th>\n",
              "      <th>MoSold11</th>\n",
              "      <th>MoSold12</th>\n",
              "      <th>MoSold2</th>\n",
              "      <th>MoSold3</th>\n",
              "      <th>MoSold4</th>\n",
              "      <th>MoSold5</th>\n",
              "      <th>MoSold6</th>\n",
              "      <th>MoSold7</th>\n",
              "      <th>MoSold8</th>\n",
              "      <th>MoSold9</th>\n",
              "      <th>YrSold2006</th>\n",
              "      <th>YrSold2007</th>\n",
              "      <th>YrSold2008</th>\n",
              "      <th>YrSold2009</th>\n",
              "      <th>YrSold2010</th>\n",
              "      <th>SaleTypeCOD</th>\n",
              "      <th>SaleTypeCWD</th>\n",
              "      <th>SaleTypeCon</th>\n",
              "      <th>SaleTypeConLD</th>\n",
              "      <th>SaleTypeConLI</th>\n",
              "      <th>SaleTypeConLw</th>\n",
              "      <th>SaleTypeNew</th>\n",
              "      <th>SaleTypeOth</th>\n",
              "      <th>SaleTypeWD</th>\n",
              "      <th>SaleConditionAbnorml</th>\n",
              "      <th>SaleConditionAdjLand</th>\n",
              "      <th>SaleConditionAlloca</th>\n",
              "      <th>SaleConditionFamily</th>\n",
              "      <th>SaleConditionNormal</th>\n",
              "      <th>SaleConditionPartial</th>\n",
              "    </tr>\n",
              "  </thead>\n",
              "  <tbody>\n",
              "    <tr>\n",
              "      <th>0</th>\n",
              "      <td>0.0</td>\n",
              "      <td>0.0</td>\n",
              "      <td>0.0</td>\n",
              "      <td>0.0</td>\n",
              "      <td>0.0</td>\n",
              "      <td>0.0</td>\n",
              "      <td>0.0</td>\n",
              "      <td>0.0</td>\n",
              "      <td>0.0</td>\n",
              "      <td>1.0</td>\n",
              "      <td>0.0</td>\n",
              "      <td>0.0</td>\n",
              "      <td>0.0</td>\n",
              "      <td>0.0</td>\n",
              "      <td>0.0</td>\n",
              "      <td>0.0</td>\n",
              "      <td>0.0</td>\n",
              "      <td>0.0</td>\n",
              "      <td>1.0</td>\n",
              "      <td>0.0</td>\n",
              "      <td>0.0</td>\n",
              "      <td>1.0</td>\n",
              "      <td>0.0</td>\n",
              "      <td>0.0</td>\n",
              "      <td>1.0</td>\n",
              "      <td>0.0</td>\n",
              "      <td>0.0</td>\n",
              "      <td>0.0</td>\n",
              "      <td>1.0</td>\n",
              "      <td>0.0</td>\n",
              "      <td>0.0</td>\n",
              "      <td>0.0</td>\n",
              "      <td>1.0</td>\n",
              "      <td>1.0</td>\n",
              "      <td>0.0</td>\n",
              "      <td>0.0</td>\n",
              "      <td>0.0</td>\n",
              "      <td>0.0</td>\n",
              "      <td>0.0</td>\n",
              "      <td>1.0</td>\n",
              "      <td>...</td>\n",
              "      <td>0.0</td>\n",
              "      <td>0.0</td>\n",
              "      <td>1.0</td>\n",
              "      <td>0.0</td>\n",
              "      <td>0.0</td>\n",
              "      <td>0.0</td>\n",
              "      <td>0.0</td>\n",
              "      <td>1.0</td>\n",
              "      <td>0.0</td>\n",
              "      <td>0.0</td>\n",
              "      <td>0.0</td>\n",
              "      <td>0.0</td>\n",
              "      <td>1.0</td>\n",
              "      <td>0.0</td>\n",
              "      <td>0.0</td>\n",
              "      <td>0.0</td>\n",
              "      <td>0.0</td>\n",
              "      <td>0.0</td>\n",
              "      <td>0.0</td>\n",
              "      <td>0.0</td>\n",
              "      <td>0.0</td>\n",
              "      <td>0.0</td>\n",
              "      <td>1.0</td>\n",
              "      <td>0.0</td>\n",
              "      <td>0.0</td>\n",
              "      <td>0.0</td>\n",
              "      <td>0.0</td>\n",
              "      <td>0.0</td>\n",
              "      <td>0.0</td>\n",
              "      <td>0.0</td>\n",
              "      <td>0.0</td>\n",
              "      <td>0.0</td>\n",
              "      <td>0.0</td>\n",
              "      <td>1.0</td>\n",
              "      <td>0.0</td>\n",
              "      <td>0.0</td>\n",
              "      <td>0.0</td>\n",
              "      <td>0.0</td>\n",
              "      <td>1.0</td>\n",
              "      <td>0.0</td>\n",
              "    </tr>\n",
              "    <tr>\n",
              "      <th>1</th>\n",
              "      <td>0.0</td>\n",
              "      <td>0.0</td>\n",
              "      <td>0.0</td>\n",
              "      <td>0.0</td>\n",
              "      <td>1.0</td>\n",
              "      <td>0.0</td>\n",
              "      <td>0.0</td>\n",
              "      <td>0.0</td>\n",
              "      <td>0.0</td>\n",
              "      <td>0.0</td>\n",
              "      <td>0.0</td>\n",
              "      <td>0.0</td>\n",
              "      <td>0.0</td>\n",
              "      <td>0.0</td>\n",
              "      <td>0.0</td>\n",
              "      <td>0.0</td>\n",
              "      <td>0.0</td>\n",
              "      <td>0.0</td>\n",
              "      <td>1.0</td>\n",
              "      <td>0.0</td>\n",
              "      <td>0.0</td>\n",
              "      <td>1.0</td>\n",
              "      <td>0.0</td>\n",
              "      <td>0.0</td>\n",
              "      <td>1.0</td>\n",
              "      <td>0.0</td>\n",
              "      <td>0.0</td>\n",
              "      <td>0.0</td>\n",
              "      <td>1.0</td>\n",
              "      <td>0.0</td>\n",
              "      <td>0.0</td>\n",
              "      <td>0.0</td>\n",
              "      <td>1.0</td>\n",
              "      <td>1.0</td>\n",
              "      <td>0.0</td>\n",
              "      <td>0.0</td>\n",
              "      <td>0.0</td>\n",
              "      <td>1.0</td>\n",
              "      <td>0.0</td>\n",
              "      <td>0.0</td>\n",
              "      <td>...</td>\n",
              "      <td>0.0</td>\n",
              "      <td>0.0</td>\n",
              "      <td>1.0</td>\n",
              "      <td>0.0</td>\n",
              "      <td>0.0</td>\n",
              "      <td>0.0</td>\n",
              "      <td>0.0</td>\n",
              "      <td>1.0</td>\n",
              "      <td>0.0</td>\n",
              "      <td>0.0</td>\n",
              "      <td>0.0</td>\n",
              "      <td>0.0</td>\n",
              "      <td>0.0</td>\n",
              "      <td>0.0</td>\n",
              "      <td>0.0</td>\n",
              "      <td>1.0</td>\n",
              "      <td>0.0</td>\n",
              "      <td>0.0</td>\n",
              "      <td>0.0</td>\n",
              "      <td>0.0</td>\n",
              "      <td>0.0</td>\n",
              "      <td>1.0</td>\n",
              "      <td>0.0</td>\n",
              "      <td>0.0</td>\n",
              "      <td>0.0</td>\n",
              "      <td>0.0</td>\n",
              "      <td>0.0</td>\n",
              "      <td>0.0</td>\n",
              "      <td>0.0</td>\n",
              "      <td>0.0</td>\n",
              "      <td>0.0</td>\n",
              "      <td>0.0</td>\n",
              "      <td>0.0</td>\n",
              "      <td>1.0</td>\n",
              "      <td>0.0</td>\n",
              "      <td>0.0</td>\n",
              "      <td>0.0</td>\n",
              "      <td>0.0</td>\n",
              "      <td>1.0</td>\n",
              "      <td>0.0</td>\n",
              "    </tr>\n",
              "    <tr>\n",
              "      <th>2</th>\n",
              "      <td>0.0</td>\n",
              "      <td>0.0</td>\n",
              "      <td>0.0</td>\n",
              "      <td>0.0</td>\n",
              "      <td>0.0</td>\n",
              "      <td>0.0</td>\n",
              "      <td>0.0</td>\n",
              "      <td>0.0</td>\n",
              "      <td>0.0</td>\n",
              "      <td>1.0</td>\n",
              "      <td>0.0</td>\n",
              "      <td>0.0</td>\n",
              "      <td>0.0</td>\n",
              "      <td>0.0</td>\n",
              "      <td>0.0</td>\n",
              "      <td>0.0</td>\n",
              "      <td>0.0</td>\n",
              "      <td>0.0</td>\n",
              "      <td>1.0</td>\n",
              "      <td>0.0</td>\n",
              "      <td>0.0</td>\n",
              "      <td>1.0</td>\n",
              "      <td>0.0</td>\n",
              "      <td>0.0</td>\n",
              "      <td>1.0</td>\n",
              "      <td>1.0</td>\n",
              "      <td>0.0</td>\n",
              "      <td>0.0</td>\n",
              "      <td>0.0</td>\n",
              "      <td>0.0</td>\n",
              "      <td>0.0</td>\n",
              "      <td>0.0</td>\n",
              "      <td>1.0</td>\n",
              "      <td>1.0</td>\n",
              "      <td>0.0</td>\n",
              "      <td>0.0</td>\n",
              "      <td>0.0</td>\n",
              "      <td>0.0</td>\n",
              "      <td>0.0</td>\n",
              "      <td>1.0</td>\n",
              "      <td>...</td>\n",
              "      <td>0.0</td>\n",
              "      <td>0.0</td>\n",
              "      <td>1.0</td>\n",
              "      <td>0.0</td>\n",
              "      <td>0.0</td>\n",
              "      <td>0.0</td>\n",
              "      <td>0.0</td>\n",
              "      <td>1.0</td>\n",
              "      <td>0.0</td>\n",
              "      <td>0.0</td>\n",
              "      <td>0.0</td>\n",
              "      <td>0.0</td>\n",
              "      <td>0.0</td>\n",
              "      <td>0.0</td>\n",
              "      <td>0.0</td>\n",
              "      <td>0.0</td>\n",
              "      <td>0.0</td>\n",
              "      <td>0.0</td>\n",
              "      <td>0.0</td>\n",
              "      <td>1.0</td>\n",
              "      <td>0.0</td>\n",
              "      <td>0.0</td>\n",
              "      <td>1.0</td>\n",
              "      <td>0.0</td>\n",
              "      <td>0.0</td>\n",
              "      <td>0.0</td>\n",
              "      <td>0.0</td>\n",
              "      <td>0.0</td>\n",
              "      <td>0.0</td>\n",
              "      <td>0.0</td>\n",
              "      <td>0.0</td>\n",
              "      <td>0.0</td>\n",
              "      <td>0.0</td>\n",
              "      <td>1.0</td>\n",
              "      <td>0.0</td>\n",
              "      <td>0.0</td>\n",
              "      <td>0.0</td>\n",
              "      <td>0.0</td>\n",
              "      <td>1.0</td>\n",
              "      <td>0.0</td>\n",
              "    </tr>\n",
              "    <tr>\n",
              "      <th>3</th>\n",
              "      <td>0.0</td>\n",
              "      <td>0.0</td>\n",
              "      <td>0.0</td>\n",
              "      <td>0.0</td>\n",
              "      <td>0.0</td>\n",
              "      <td>0.0</td>\n",
              "      <td>0.0</td>\n",
              "      <td>0.0</td>\n",
              "      <td>0.0</td>\n",
              "      <td>0.0</td>\n",
              "      <td>1.0</td>\n",
              "      <td>0.0</td>\n",
              "      <td>0.0</td>\n",
              "      <td>0.0</td>\n",
              "      <td>0.0</td>\n",
              "      <td>0.0</td>\n",
              "      <td>0.0</td>\n",
              "      <td>0.0</td>\n",
              "      <td>1.0</td>\n",
              "      <td>0.0</td>\n",
              "      <td>0.0</td>\n",
              "      <td>1.0</td>\n",
              "      <td>0.0</td>\n",
              "      <td>0.0</td>\n",
              "      <td>1.0</td>\n",
              "      <td>1.0</td>\n",
              "      <td>0.0</td>\n",
              "      <td>0.0</td>\n",
              "      <td>0.0</td>\n",
              "      <td>0.0</td>\n",
              "      <td>0.0</td>\n",
              "      <td>0.0</td>\n",
              "      <td>1.0</td>\n",
              "      <td>1.0</td>\n",
              "      <td>0.0</td>\n",
              "      <td>1.0</td>\n",
              "      <td>0.0</td>\n",
              "      <td>0.0</td>\n",
              "      <td>0.0</td>\n",
              "      <td>0.0</td>\n",
              "      <td>...</td>\n",
              "      <td>0.0</td>\n",
              "      <td>0.0</td>\n",
              "      <td>1.0</td>\n",
              "      <td>0.0</td>\n",
              "      <td>0.0</td>\n",
              "      <td>0.0</td>\n",
              "      <td>0.0</td>\n",
              "      <td>1.0</td>\n",
              "      <td>0.0</td>\n",
              "      <td>0.0</td>\n",
              "      <td>0.0</td>\n",
              "      <td>0.0</td>\n",
              "      <td>1.0</td>\n",
              "      <td>0.0</td>\n",
              "      <td>0.0</td>\n",
              "      <td>0.0</td>\n",
              "      <td>0.0</td>\n",
              "      <td>0.0</td>\n",
              "      <td>0.0</td>\n",
              "      <td>0.0</td>\n",
              "      <td>1.0</td>\n",
              "      <td>0.0</td>\n",
              "      <td>0.0</td>\n",
              "      <td>0.0</td>\n",
              "      <td>0.0</td>\n",
              "      <td>0.0</td>\n",
              "      <td>0.0</td>\n",
              "      <td>0.0</td>\n",
              "      <td>0.0</td>\n",
              "      <td>0.0</td>\n",
              "      <td>0.0</td>\n",
              "      <td>0.0</td>\n",
              "      <td>0.0</td>\n",
              "      <td>1.0</td>\n",
              "      <td>1.0</td>\n",
              "      <td>0.0</td>\n",
              "      <td>0.0</td>\n",
              "      <td>0.0</td>\n",
              "      <td>0.0</td>\n",
              "      <td>0.0</td>\n",
              "    </tr>\n",
              "    <tr>\n",
              "      <th>4</th>\n",
              "      <td>0.0</td>\n",
              "      <td>0.0</td>\n",
              "      <td>0.0</td>\n",
              "      <td>0.0</td>\n",
              "      <td>0.0</td>\n",
              "      <td>0.0</td>\n",
              "      <td>0.0</td>\n",
              "      <td>0.0</td>\n",
              "      <td>0.0</td>\n",
              "      <td>1.0</td>\n",
              "      <td>0.0</td>\n",
              "      <td>0.0</td>\n",
              "      <td>0.0</td>\n",
              "      <td>0.0</td>\n",
              "      <td>0.0</td>\n",
              "      <td>0.0</td>\n",
              "      <td>0.0</td>\n",
              "      <td>0.0</td>\n",
              "      <td>1.0</td>\n",
              "      <td>0.0</td>\n",
              "      <td>0.0</td>\n",
              "      <td>1.0</td>\n",
              "      <td>0.0</td>\n",
              "      <td>0.0</td>\n",
              "      <td>1.0</td>\n",
              "      <td>1.0</td>\n",
              "      <td>0.0</td>\n",
              "      <td>0.0</td>\n",
              "      <td>0.0</td>\n",
              "      <td>0.0</td>\n",
              "      <td>0.0</td>\n",
              "      <td>0.0</td>\n",
              "      <td>1.0</td>\n",
              "      <td>1.0</td>\n",
              "      <td>0.0</td>\n",
              "      <td>0.0</td>\n",
              "      <td>0.0</td>\n",
              "      <td>1.0</td>\n",
              "      <td>0.0</td>\n",
              "      <td>0.0</td>\n",
              "      <td>...</td>\n",
              "      <td>0.0</td>\n",
              "      <td>0.0</td>\n",
              "      <td>1.0</td>\n",
              "      <td>0.0</td>\n",
              "      <td>0.0</td>\n",
              "      <td>0.0</td>\n",
              "      <td>0.0</td>\n",
              "      <td>1.0</td>\n",
              "      <td>0.0</td>\n",
              "      <td>0.0</td>\n",
              "      <td>0.0</td>\n",
              "      <td>1.0</td>\n",
              "      <td>0.0</td>\n",
              "      <td>0.0</td>\n",
              "      <td>0.0</td>\n",
              "      <td>0.0</td>\n",
              "      <td>0.0</td>\n",
              "      <td>0.0</td>\n",
              "      <td>0.0</td>\n",
              "      <td>0.0</td>\n",
              "      <td>0.0</td>\n",
              "      <td>0.0</td>\n",
              "      <td>1.0</td>\n",
              "      <td>0.0</td>\n",
              "      <td>0.0</td>\n",
              "      <td>0.0</td>\n",
              "      <td>0.0</td>\n",
              "      <td>0.0</td>\n",
              "      <td>0.0</td>\n",
              "      <td>0.0</td>\n",
              "      <td>0.0</td>\n",
              "      <td>0.0</td>\n",
              "      <td>0.0</td>\n",
              "      <td>1.0</td>\n",
              "      <td>0.0</td>\n",
              "      <td>0.0</td>\n",
              "      <td>0.0</td>\n",
              "      <td>0.0</td>\n",
              "      <td>1.0</td>\n",
              "      <td>0.0</td>\n",
              "    </tr>\n",
              "  </tbody>\n",
              "</table>\n",
              "<p>5 rows × 590 columns</p>\n",
              "</div>"
            ],
            "text/plain": [
              "   MSSubClass120  MSSubClass160  ...  SaleConditionNormal  SaleConditionPartial\n",
              "0            0.0            0.0  ...                  1.0                   0.0\n",
              "1            0.0            0.0  ...                  1.0                   0.0\n",
              "2            0.0            0.0  ...                  1.0                   0.0\n",
              "3            0.0            0.0  ...                  0.0                   0.0\n",
              "4            0.0            0.0  ...                  1.0                   0.0\n",
              "\n",
              "[5 rows x 590 columns]"
            ]
          },
          "metadata": {
            "tags": []
          },
          "execution_count": 19
        }
      ]
    },
    {
      "cell_type": "markdown",
      "metadata": {
        "id": "FigRyUg15WjX"
      },
      "source": [
        "_______________"
      ]
    },
    {
      "cell_type": "markdown",
      "metadata": {
        "id": "I_w77oump5s0"
      },
      "source": [
        "### *5. Feature Scaling*\n",
        "\n"
      ]
    },
    {
      "cell_type": "markdown",
      "metadata": {
        "id": "FuC2tnSC6L6r"
      },
      "source": [
        "**5.1 Feature Scaling**\n",
        "*   Scaling numeric values (located in cols 0-19) using standardization."
      ]
    },
    {
      "cell_type": "code",
      "metadata": {
        "id": "Dcy5rBi-p_PG"
      },
      "source": [
        "sc = StandardScaler()\n",
        "scaled = sc.fit_transform(data_v3.values[:, :30])\n",
        "data_v4 = pd.DataFrame(data = scaled, columns = data_v3.columns[:30])"
      ],
      "execution_count": null,
      "outputs": []
    },
    {
      "cell_type": "code",
      "metadata": {
        "id": "ZAWhr4YltQmx",
        "colab": {
          "base_uri": "https://localhost:8080/",
          "height": 211
        },
        "outputId": "67f22814-6fec-403f-91c3-6d1b78b87785"
      },
      "source": [
        "data_v4.head()"
      ],
      "execution_count": null,
      "outputs": [
        {
          "output_type": "execute_result",
          "data": {
            "text/html": [
              "<div>\n",
              "<style scoped>\n",
              "    .dataframe tbody tr th:only-of-type {\n",
              "        vertical-align: middle;\n",
              "    }\n",
              "\n",
              "    .dataframe tbody tr th {\n",
              "        vertical-align: top;\n",
              "    }\n",
              "\n",
              "    .dataframe thead th {\n",
              "        text-align: right;\n",
              "    }\n",
              "</style>\n",
              "<table border=\"1\" class=\"dataframe\">\n",
              "  <thead>\n",
              "    <tr style=\"text-align: right;\">\n",
              "      <th></th>\n",
              "      <th>Id</th>\n",
              "      <th>LotFrontage</th>\n",
              "      <th>LotArea</th>\n",
              "      <th>MasVnrArea</th>\n",
              "      <th>BsmtFinSF1</th>\n",
              "      <th>BsmtFinSF2</th>\n",
              "      <th>BsmtUnfSF</th>\n",
              "      <th>TotalBsmtSF</th>\n",
              "      <th>1stFlrSF</th>\n",
              "      <th>2ndFlrSF</th>\n",
              "      <th>LowQualFinSF</th>\n",
              "      <th>GrLivArea</th>\n",
              "      <th>BsmtFullBath</th>\n",
              "      <th>BsmtHalfBath</th>\n",
              "      <th>FullBath</th>\n",
              "      <th>HalfBath</th>\n",
              "      <th>BedroomAbvGr</th>\n",
              "      <th>KitchenAbvGr</th>\n",
              "      <th>TotRmsAbvGrd</th>\n",
              "      <th>Fireplaces</th>\n",
              "      <th>GarageCars</th>\n",
              "      <th>GarageArea</th>\n",
              "      <th>WoodDeckSF</th>\n",
              "      <th>OpenPorchSF</th>\n",
              "      <th>EnclosedPorch</th>\n",
              "      <th>3SsnPorch</th>\n",
              "      <th>ScreenPorch</th>\n",
              "      <th>PoolArea</th>\n",
              "      <th>MiscVal</th>\n",
              "      <th>SalePrice</th>\n",
              "    </tr>\n",
              "  </thead>\n",
              "  <tbody>\n",
              "    <tr>\n",
              "      <th>0</th>\n",
              "      <td>-1.730865</td>\n",
              "      <td>-0.229372</td>\n",
              "      <td>-0.207142</td>\n",
              "      <td>0.511418</td>\n",
              "      <td>0.575425</td>\n",
              "      <td>-0.288653</td>\n",
              "      <td>-0.944591</td>\n",
              "      <td>-0.459303</td>\n",
              "      <td>-0.793434</td>\n",
              "      <td>1.161852</td>\n",
              "      <td>-0.120242</td>\n",
              "      <td>0.370333</td>\n",
              "      <td>1.107810</td>\n",
              "      <td>-0.241061</td>\n",
              "      <td>0.789741</td>\n",
              "      <td>1.227585</td>\n",
              "      <td>0.163779</td>\n",
              "      <td>-0.211454</td>\n",
              "      <td>0.912210</td>\n",
              "      <td>-0.951226</td>\n",
              "      <td>0.311725</td>\n",
              "      <td>0.351000</td>\n",
              "      <td>-0.752176</td>\n",
              "      <td>0.216503</td>\n",
              "      <td>-0.359325</td>\n",
              "      <td>-0.116339</td>\n",
              "      <td>-0.270208</td>\n",
              "      <td>-0.068692</td>\n",
              "      <td>-0.087688</td>\n",
              "      <td>0.347273</td>\n",
              "    </tr>\n",
              "    <tr>\n",
              "      <th>1</th>\n",
              "      <td>-1.728492</td>\n",
              "      <td>0.451936</td>\n",
              "      <td>-0.091886</td>\n",
              "      <td>-0.574410</td>\n",
              "      <td>1.171992</td>\n",
              "      <td>-0.288653</td>\n",
              "      <td>-0.641228</td>\n",
              "      <td>0.466465</td>\n",
              "      <td>0.257140</td>\n",
              "      <td>-0.795163</td>\n",
              "      <td>-0.120242</td>\n",
              "      <td>-0.482512</td>\n",
              "      <td>-0.819964</td>\n",
              "      <td>3.948809</td>\n",
              "      <td>0.789741</td>\n",
              "      <td>-0.761621</td>\n",
              "      <td>0.163779</td>\n",
              "      <td>-0.211454</td>\n",
              "      <td>-0.318683</td>\n",
              "      <td>0.600495</td>\n",
              "      <td>0.311725</td>\n",
              "      <td>-0.060731</td>\n",
              "      <td>1.626195</td>\n",
              "      <td>-0.704483</td>\n",
              "      <td>-0.359325</td>\n",
              "      <td>-0.116339</td>\n",
              "      <td>-0.270208</td>\n",
              "      <td>-0.068692</td>\n",
              "      <td>-0.087688</td>\n",
              "      <td>0.007288</td>\n",
              "    </tr>\n",
              "    <tr>\n",
              "      <th>2</th>\n",
              "      <td>-1.726120</td>\n",
              "      <td>-0.093110</td>\n",
              "      <td>0.073480</td>\n",
              "      <td>0.323060</td>\n",
              "      <td>0.092907</td>\n",
              "      <td>-0.288653</td>\n",
              "      <td>-0.301643</td>\n",
              "      <td>-0.313369</td>\n",
              "      <td>-0.627826</td>\n",
              "      <td>1.189351</td>\n",
              "      <td>-0.120242</td>\n",
              "      <td>0.515013</td>\n",
              "      <td>1.107810</td>\n",
              "      <td>-0.241061</td>\n",
              "      <td>0.789741</td>\n",
              "      <td>1.227585</td>\n",
              "      <td>0.163779</td>\n",
              "      <td>-0.211454</td>\n",
              "      <td>-0.318683</td>\n",
              "      <td>0.600495</td>\n",
              "      <td>0.311725</td>\n",
              "      <td>0.631726</td>\n",
              "      <td>-0.752176</td>\n",
              "      <td>-0.070361</td>\n",
              "      <td>-0.359325</td>\n",
              "      <td>-0.116339</td>\n",
              "      <td>-0.270208</td>\n",
              "      <td>-0.068692</td>\n",
              "      <td>-0.087688</td>\n",
              "      <td>0.536154</td>\n",
              "    </tr>\n",
              "    <tr>\n",
              "      <th>3</th>\n",
              "      <td>-1.723747</td>\n",
              "      <td>-0.456474</td>\n",
              "      <td>-0.096897</td>\n",
              "      <td>-0.574410</td>\n",
              "      <td>-0.499274</td>\n",
              "      <td>-0.288653</td>\n",
              "      <td>-0.061670</td>\n",
              "      <td>-0.687324</td>\n",
              "      <td>-0.521734</td>\n",
              "      <td>0.937276</td>\n",
              "      <td>-0.120242</td>\n",
              "      <td>0.383659</td>\n",
              "      <td>1.107810</td>\n",
              "      <td>-0.241061</td>\n",
              "      <td>-1.026041</td>\n",
              "      <td>-0.761621</td>\n",
              "      <td>0.163779</td>\n",
              "      <td>-0.211454</td>\n",
              "      <td>0.296763</td>\n",
              "      <td>0.600495</td>\n",
              "      <td>1.650307</td>\n",
              "      <td>0.790804</td>\n",
              "      <td>-0.752176</td>\n",
              "      <td>-0.176048</td>\n",
              "      <td>4.092524</td>\n",
              "      <td>-0.116339</td>\n",
              "      <td>-0.270208</td>\n",
              "      <td>-0.068692</td>\n",
              "      <td>-0.087688</td>\n",
              "      <td>-0.515281</td>\n",
              "    </tr>\n",
              "    <tr>\n",
              "      <th>4</th>\n",
              "      <td>-1.721374</td>\n",
              "      <td>0.633618</td>\n",
              "      <td>0.375148</td>\n",
              "      <td>1.364570</td>\n",
              "      <td>0.463568</td>\n",
              "      <td>-0.288653</td>\n",
              "      <td>-0.174865</td>\n",
              "      <td>0.199680</td>\n",
              "      <td>-0.045611</td>\n",
              "      <td>1.617877</td>\n",
              "      <td>-0.120242</td>\n",
              "      <td>1.299326</td>\n",
              "      <td>1.107810</td>\n",
              "      <td>-0.241061</td>\n",
              "      <td>0.789741</td>\n",
              "      <td>1.227585</td>\n",
              "      <td>1.390023</td>\n",
              "      <td>-0.211454</td>\n",
              "      <td>1.527656</td>\n",
              "      <td>0.600495</td>\n",
              "      <td>1.650307</td>\n",
              "      <td>1.698485</td>\n",
              "      <td>0.780197</td>\n",
              "      <td>0.563760</td>\n",
              "      <td>-0.359325</td>\n",
              "      <td>-0.116339</td>\n",
              "      <td>-0.270208</td>\n",
              "      <td>-0.068692</td>\n",
              "      <td>-0.087688</td>\n",
              "      <td>0.869843</td>\n",
              "    </tr>\n",
              "  </tbody>\n",
              "</table>\n",
              "</div>"
            ],
            "text/plain": [
              "         Id  LotFrontage   LotArea  ...  PoolArea   MiscVal  SalePrice\n",
              "0 -1.730865    -0.229372 -0.207142  ... -0.068692 -0.087688   0.347273\n",
              "1 -1.728492     0.451936 -0.091886  ... -0.068692 -0.087688   0.007288\n",
              "2 -1.726120    -0.093110  0.073480  ... -0.068692 -0.087688   0.536154\n",
              "3 -1.723747    -0.456474 -0.096897  ... -0.068692 -0.087688  -0.515281\n",
              "4 -1.721374     0.633618  0.375148  ... -0.068692 -0.087688   0.869843\n",
              "\n",
              "[5 rows x 30 columns]"
            ]
          },
          "metadata": {
            "tags": []
          },
          "execution_count": 22
        }
      ]
    },
    {
      "cell_type": "markdown",
      "metadata": {
        "id": "8udSgIQu6gdL"
      },
      "source": [
        "**5.2 Joining Scaled DF to Base DF**\n",
        "* Joining the scaled numeric df with the one hot encoded categorical columns of data_v3."
      ]
    },
    {
      "cell_type": "code",
      "metadata": {
        "id": "GzWU_Z0a6D-o"
      },
      "source": [
        "data_v5 = data_v4.join(data_v3[data_v3.columns[30:]])"
      ],
      "execution_count": null,
      "outputs": []
    },
    {
      "cell_type": "markdown",
      "metadata": {
        "id": "qa86ucSr62BV"
      },
      "source": [
        "_____________"
      ]
    },
    {
      "cell_type": "markdown",
      "metadata": {
        "id": "i86iejCMQWKu"
      },
      "source": [
        "### *6. Exporting Data Sets*"
      ]
    },
    {
      "cell_type": "markdown",
      "metadata": {
        "id": "d-OIZTa9AsSB"
      },
      "source": [
        "**6.1 Unscaled Data Set**"
      ]
    },
    {
      "cell_type": "code",
      "metadata": {
        "colab": {
          "base_uri": "https://localhost:8080/"
        },
        "id": "g9Q6sGthIpzA",
        "outputId": "10e788ab-1dc3-479d-c37a-5e76b3a5a42c"
      },
      "source": [
        "%cd /content/drive/My\\ Drive/2.\\ Career\\ Development/Data\\ Science/4.\\ Data\\ Science\\ Projects/Predicting\\ Housing\\ Prices/"
      ],
      "execution_count": null,
      "outputs": [
        {
          "output_type": "stream",
          "text": [
            "/content/drive/My Drive/2. Career Development/Data Science/4. Data Science Projects/Predicting Housing Prices\n"
          ],
          "name": "stdout"
        }
      ]
    },
    {
      "cell_type": "code",
      "metadata": {
        "id": "cn8QFNducVnB"
      },
      "source": [
        "data_v3.to_csv('predicting_housing_prices_data_unscaled.csv')"
      ],
      "execution_count": null,
      "outputs": []
    },
    {
      "cell_type": "markdown",
      "metadata": {
        "id": "a9IaXFu-I1-K"
      },
      "source": [
        "**6.2 Scaled Data Set**"
      ]
    },
    {
      "cell_type": "code",
      "metadata": {
        "id": "-qYJ9oRCI8im"
      },
      "source": [
        "data_v5.to_csv('predicting_housing_prices_data_scaled.csv')"
      ],
      "execution_count": null,
      "outputs": []
    }
  ]
}
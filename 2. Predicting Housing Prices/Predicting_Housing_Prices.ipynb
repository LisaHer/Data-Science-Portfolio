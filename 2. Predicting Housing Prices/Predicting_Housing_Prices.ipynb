{
  "nbformat": 4,
  "nbformat_minor": 0,
  "metadata": {
    "colab": {
      "name": "Predicting Housing Prices",
      "provenance": [],
      "collapsed_sections": []
    },
    "kernelspec": {
      "name": "python3",
      "display_name": "Python 3"
    }
  },
  "cells": [
    {
      "cell_type": "markdown",
      "metadata": {
        "id": "ynMFlzzi57ff"
      },
      "source": [
        "# Predicting Housing Prices"
      ]
    },
    {
      "cell_type": "markdown",
      "metadata": {
        "id": "h6xCUklA5_do"
      },
      "source": [
        "### *1. Importing libraries and data*"
      ]
    },
    {
      "cell_type": "code",
      "metadata": {
        "id": "5EibIoSj5-Na"
      },
      "source": [
        "import numpy as np\n",
        "import pandas as pd\n",
        "from google.colab import drive\n",
        "from sklearn.preprocessing import PolynomialFeatures \n",
        "from sklearn.model_selection import train_test_split\n",
        "from sklearn.linear_model import LinearRegression\n",
        "from sklearn.tree import DecisionTreeRegressor\n",
        "from sklearn.ensemble import RandomForestRegressor\n",
        "from sklearn.svm import SVR\n",
        "from sklearn.metrics import r2_score\n",
        "from sklearn.model_selection import cross_val_score"
      ],
      "execution_count": null,
      "outputs": []
    },
    {
      "cell_type": "code",
      "metadata": {
        "colab": {
          "base_uri": "https://localhost:8080/"
        },
        "id": "T7k7pRFu6I27",
        "outputId": "01e3177e-4c41-4369-ca64-b9b3c42b8b72"
      },
      "source": [
        "drive.mount('/content/drive')\n",
        "%cd /content/drive/My\\ Drive/2.\\ Career\\ Development/Data\\ Science/4.\\ Data\\ Science\\ Projects/Predicting\\ Housing\\ Prices/"
      ],
      "execution_count": null,
      "outputs": [
        {
          "output_type": "stream",
          "text": [
            "Mounted at /content/drive\n",
            "/content/drive/My Drive/2. Career Development/Data Science/4. Data Science Projects/Predicting Housing Prices\n"
          ],
          "name": "stdout"
        }
      ]
    },
    {
      "cell_type": "code",
      "metadata": {
        "id": "OcukuTbOMErW"
      },
      "source": [
        "cols = ['Id', 'Unnamed: 0', 'SalePrice']\n",
        "x_scaled = pd.read_csv('predicting_housing_prices_data_scaled.csv').drop(cols, axis = 1)\n",
        "x_unscaled = pd.read_csv('predicting_housing_prices_data_unscaled.csv').drop(cols, axis = 1)"
      ],
      "execution_count": null,
      "outputs": []
    },
    {
      "cell_type": "code",
      "metadata": {
        "id": "ewMIhG-f5_kP"
      },
      "source": [
        "y_scaled = pd.read_csv('predicting_housing_prices_data_scaled.csv')['SalePrice']\n",
        "y_unscaled = pd.read_csv('predicting_housing_prices_data_unscaled.csv')['SalePrice']"
      ],
      "execution_count": null,
      "outputs": []
    },
    {
      "cell_type": "markdown",
      "metadata": {
        "id": "yilqdRWcXaCm"
      },
      "source": [
        "__________________"
      ]
    },
    {
      "cell_type": "markdown",
      "metadata": {
        "id": "i86iejCMQWKu"
      },
      "source": [
        "### *2. Splitting Data into Training & Test Set*"
      ]
    },
    {
      "cell_type": "markdown",
      "metadata": {
        "id": "ne2ve2ZzNmc5"
      },
      "source": [
        "**2.1 Scaled**"
      ]
    },
    {
      "cell_type": "code",
      "metadata": {
        "id": "cn8QFNducVnB"
      },
      "source": [
        "y_scaled = y_scaled.values\n",
        "x_scaled = x_scaled.values"
      ],
      "execution_count": null,
      "outputs": []
    },
    {
      "cell_type": "code",
      "metadata": {
        "id": "Jp3y1td3f80f"
      },
      "source": [
        "x_train_scaled, x_test_scaled, y_train_scaled, y_test_scaled = train_test_split(x_scaled, y_scaled, test_size = 0.2, random_state = 0)"
      ],
      "execution_count": null,
      "outputs": []
    },
    {
      "cell_type": "markdown",
      "metadata": {
        "id": "tEt6OkSsOpH2"
      },
      "source": [
        "**2.2 Unscaled**"
      ]
    },
    {
      "cell_type": "code",
      "metadata": {
        "id": "kafQVDEdvtIS"
      },
      "source": [
        "y_unscaled = y_unscaled.values\n",
        "x_unscaled = x_unscaled.values"
      ],
      "execution_count": null,
      "outputs": []
    },
    {
      "cell_type": "code",
      "metadata": {
        "id": "uYB5TZnUv303"
      },
      "source": [
        "x_train_unscaled, x_test_unscaled, y_train_unscaled, y_test_unscaled = train_test_split(x_unscaled, y_unscaled, test_size = 0.2, random_state = 0)"
      ],
      "execution_count": null,
      "outputs": []
    },
    {
      "cell_type": "markdown",
      "metadata": {
        "id": "rUL0PEcqQoOd"
      },
      "source": [
        "______________"
      ]
    },
    {
      "cell_type": "markdown",
      "metadata": {
        "id": "EbH5qjekQtqk"
      },
      "source": [
        "### *3. Fitting a Multiple Linear Regression*"
      ]
    },
    {
      "cell_type": "markdown",
      "metadata": {
        "id": "UgBvw80ZTiBD"
      },
      "source": [
        "**3.1 Scaled**"
      ]
    },
    {
      "cell_type": "code",
      "metadata": {
        "colab": {
          "base_uri": "https://localhost:8080/"
        },
        "id": "D8zcP54HTvPE",
        "outputId": "87c282e8-8ec5-47e5-c728-3943bf4200b6"
      },
      "source": [
        "#implements backward elimination\n",
        "linear_regression_scaled = LinearRegression()\n",
        "linear_regression_scaled.fit(x_train_scaled, y_train_scaled)"
      ],
      "execution_count": null,
      "outputs": [
        {
          "output_type": "execute_result",
          "data": {
            "text/plain": [
              "LinearRegression(copy_X=True, fit_intercept=True, n_jobs=None, normalize=False)"
            ]
          },
          "metadata": {
            "tags": []
          },
          "execution_count": 24
        }
      ]
    },
    {
      "cell_type": "markdown",
      "metadata": {
        "id": "avPiVI1TNkRy"
      },
      "source": [
        "Cross Validation Training Set"
      ]
    },
    {
      "cell_type": "code",
      "metadata": {
        "colab": {
          "base_uri": "https://localhost:8080/"
        },
        "id": "oqwwD_VqAQhA",
        "outputId": "b206a810-7ad6-4bad-8f1e-db1017b18189"
      },
      "source": [
        "r2_values = cross_val_score(estimator = linear_regression_scaled, X = x_train_scaled, y = y_train_scaled, cv = 10, scoring = 'r2')\n",
        "print(\"R2: {:.2f} %\".format(r2_values.mean()*100))\n",
        "print(\"Standard Deviation: {:.2f} %\".format(r2_values.std()*100))"
      ],
      "execution_count": null,
      "outputs": [
        {
          "output_type": "stream",
          "text": [
            "R2: -2263254710848932282368.00 %\n",
            "Standard Deviation: 3272011262255839051776.00 %\n"
          ],
          "name": "stdout"
        }
      ]
    },
    {
      "cell_type": "markdown",
      "metadata": {
        "id": "Sq3-C6ckN-gL"
      },
      "source": [
        "Test Set Performance"
      ]
    },
    {
      "cell_type": "code",
      "metadata": {
        "id": "QS5dt_ceZDN_"
      },
      "source": [
        "pred_lr_scaled = linear_regression_scaled.predict(x_test_scaled)"
      ],
      "execution_count": null,
      "outputs": []
    },
    {
      "cell_type": "code",
      "metadata": {
        "colab": {
          "base_uri": "https://localhost:8080/"
        },
        "id": "Jff_A1tdZMZC",
        "outputId": "4abcb1ca-d8e1-4394-e2a9-a659223ec30a"
      },
      "source": [
        "r2_score(y_test_scaled, pred_lr_scaled)"
      ],
      "execution_count": null,
      "outputs": [
        {
          "output_type": "execute_result",
          "data": {
            "text/plain": [
              "-1.502545125395107e+19"
            ]
          },
          "metadata": {
            "tags": []
          },
          "execution_count": 27
        }
      ]
    },
    {
      "cell_type": "markdown",
      "metadata": {
        "id": "8qz6ClGIZa_G"
      },
      "source": [
        "**3.2 Unscaled**"
      ]
    },
    {
      "cell_type": "code",
      "metadata": {
        "colab": {
          "base_uri": "https://localhost:8080/"
        },
        "id": "GCtoEBduZabg",
        "outputId": "b9ac6a76-4d69-4266-dfd1-2c777ee17d6a"
      },
      "source": [
        "#implements backward elimination\n",
        "linear_regression_unscaled = LinearRegression()\n",
        "linear_regression_unscaled.fit(x_train_unscaled, y_train_unscaled)"
      ],
      "execution_count": null,
      "outputs": [
        {
          "output_type": "execute_result",
          "data": {
            "text/plain": [
              "LinearRegression(copy_X=True, fit_intercept=True, n_jobs=None, normalize=False)"
            ]
          },
          "metadata": {
            "tags": []
          },
          "execution_count": 28
        }
      ]
    },
    {
      "cell_type": "markdown",
      "metadata": {
        "id": "7t04VNebOCo9"
      },
      "source": [
        "Cross Validation Training Set"
      ]
    },
    {
      "cell_type": "code",
      "metadata": {
        "colab": {
          "base_uri": "https://localhost:8080/"
        },
        "id": "BNlY6jHvOHhQ",
        "outputId": "681bbbb0-e823-4367-e095-1ff9deede408"
      },
      "source": [
        "r2_values = cross_val_score(estimator = linear_regression_unscaled, X = x_train_unscaled, y = y_train_unscaled, cv = 10, scoring = 'r2')\n",
        "print(\"R2: {:.2f} %\".format(r2_values.mean()*100))\n",
        "print(\"Standard Deviation: {:.2f} %\".format(r2_values.std()*100))"
      ],
      "execution_count": null,
      "outputs": [
        {
          "output_type": "stream",
          "text": [
            "R2: -47744521341.71 %\n",
            "Standard Deviation: 66018376649.19 %\n"
          ],
          "name": "stdout"
        }
      ]
    },
    {
      "cell_type": "markdown",
      "metadata": {
        "id": "oC1igxH7OSMs"
      },
      "source": [
        "Test Set Performance"
      ]
    },
    {
      "cell_type": "code",
      "metadata": {
        "id": "oOLpmXdMZnSI"
      },
      "source": [
        "pred_lr_unscaled = linear_regression_scaled.predict(x_test_unscaled)"
      ],
      "execution_count": null,
      "outputs": []
    },
    {
      "cell_type": "code",
      "metadata": {
        "colab": {
          "base_uri": "https://localhost:8080/"
        },
        "id": "Za2fG15GZh7c",
        "outputId": "0039c3ca-dd5c-4698-aecd-a21a32a8a477"
      },
      "source": [
        "r2_score(y_test_unscaled, pred_lr_unscaled)"
      ],
      "execution_count": null,
      "outputs": [
        {
          "output_type": "execute_result",
          "data": {
            "text/plain": [
              "-5.709701454718341e+17"
            ]
          },
          "metadata": {
            "tags": []
          },
          "execution_count": 31
        }
      ]
    },
    {
      "cell_type": "markdown",
      "metadata": {
        "id": "JKhd3kqxaErj"
      },
      "source": [
        "__________"
      ]
    },
    {
      "cell_type": "markdown",
      "metadata": {
        "id": "BLN46zHmaJtE"
      },
      "source": [
        "### *4. Fitting a Decision Tree Regression*"
      ]
    },
    {
      "cell_type": "markdown",
      "metadata": {
        "id": "y1JUjBl3aYDm"
      },
      "source": [
        "**4.1 Scaled**"
      ]
    },
    {
      "cell_type": "code",
      "metadata": {
        "colab": {
          "base_uri": "https://localhost:8080/"
        },
        "id": "1bsL0ArdYh84",
        "outputId": "7577f8b0-1da1-4bcf-b888-76a2479d3388"
      },
      "source": [
        "decision_tree_scaled = DecisionTreeRegressor(random_state=0)\n",
        "decision_tree_scaled.fit(x_train_scaled,y_train_scaled)"
      ],
      "execution_count": null,
      "outputs": [
        {
          "output_type": "execute_result",
          "data": {
            "text/plain": [
              "DecisionTreeRegressor(ccp_alpha=0.0, criterion='mse', max_depth=None,\n",
              "                      max_features=None, max_leaf_nodes=None,\n",
              "                      min_impurity_decrease=0.0, min_impurity_split=None,\n",
              "                      min_samples_leaf=1, min_samples_split=2,\n",
              "                      min_weight_fraction_leaf=0.0, presort='deprecated',\n",
              "                      random_state=0, splitter='best')"
            ]
          },
          "metadata": {
            "tags": []
          },
          "execution_count": 32
        }
      ]
    },
    {
      "cell_type": "markdown",
      "metadata": {
        "id": "UhVFncXfOYT6"
      },
      "source": [
        "Cross Validation Training Set"
      ]
    },
    {
      "cell_type": "code",
      "metadata": {
        "colab": {
          "base_uri": "https://localhost:8080/"
        },
        "id": "eovzgHLeOedY",
        "outputId": "190d004f-d24c-4d6b-f1bb-2517b8967494"
      },
      "source": [
        "r2_values = cross_val_score(estimator = decision_tree_scaled, X = x_train_scaled, y = y_train_scaled, cv = 10, scoring = 'r2')\n",
        "print(\"R2: {:.2f} %\".format(r2_values.mean()*100))\n",
        "print(\"Standard Deviation: {:.2f} %\".format(r2_values.std()*100))"
      ],
      "execution_count": null,
      "outputs": [
        {
          "output_type": "stream",
          "text": [
            "R2: 68.53 %\n",
            "Standard Deviation: 12.79 %\n"
          ],
          "name": "stdout"
        }
      ]
    },
    {
      "cell_type": "markdown",
      "metadata": {
        "id": "zwinYXWIOk3N"
      },
      "source": [
        "Test Set Performance"
      ]
    },
    {
      "cell_type": "code",
      "metadata": {
        "id": "TdhQwfYfeDK_"
      },
      "source": [
        "pred_dt_scaled = decision_tree_scaled.predict(x_test_scaled)"
      ],
      "execution_count": null,
      "outputs": []
    },
    {
      "cell_type": "code",
      "metadata": {
        "colab": {
          "base_uri": "https://localhost:8080/"
        },
        "id": "19wjaozaeR4W",
        "outputId": "ee49bc50-4684-415c-e165-0d97c2c086e4"
      },
      "source": [
        "r2_score(y_test_scaled, pred_dt_scaled)"
      ],
      "execution_count": null,
      "outputs": [
        {
          "output_type": "execute_result",
          "data": {
            "text/plain": [
              "0.774920905307106"
            ]
          },
          "metadata": {
            "tags": []
          },
          "execution_count": 35
        }
      ]
    },
    {
      "cell_type": "markdown",
      "metadata": {
        "id": "RnQAgxkXbL2d"
      },
      "source": [
        "**4.2 Unscaled**"
      ]
    },
    {
      "cell_type": "code",
      "metadata": {
        "colab": {
          "base_uri": "https://localhost:8080/"
        },
        "id": "DUgSXrGwbNeE",
        "outputId": "61a8112d-f2b7-4347-a9ca-ee8632ec4a5d"
      },
      "source": [
        "decision_tree_unscaled = DecisionTreeRegressor(random_state=0)\n",
        "decision_tree_unscaled.fit(x_train_unscaled,y_train_unscaled)"
      ],
      "execution_count": null,
      "outputs": [
        {
          "output_type": "execute_result",
          "data": {
            "text/plain": [
              "DecisionTreeRegressor(ccp_alpha=0.0, criterion='mse', max_depth=None,\n",
              "                      max_features=None, max_leaf_nodes=None,\n",
              "                      min_impurity_decrease=0.0, min_impurity_split=None,\n",
              "                      min_samples_leaf=1, min_samples_split=2,\n",
              "                      min_weight_fraction_leaf=0.0, presort='deprecated',\n",
              "                      random_state=0, splitter='best')"
            ]
          },
          "metadata": {
            "tags": []
          },
          "execution_count": 36
        }
      ]
    },
    {
      "cell_type": "markdown",
      "metadata": {
        "id": "-jvF1DI2Oqo6"
      },
      "source": [
        "Cross Validation Training Set"
      ]
    },
    {
      "cell_type": "code",
      "metadata": {
        "colab": {
          "base_uri": "https://localhost:8080/"
        },
        "id": "ITIrJUKzOtZL",
        "outputId": "8f4ad9da-16ba-4812-ac51-f2419ffa0ff6"
      },
      "source": [
        "r2_values = cross_val_score(estimator = decision_tree_unscaled, X = x_train_unscaled, y = y_train_unscaled, cv = 10, scoring = 'r2')\n",
        "print(\"R2: {:.2f} %\".format(r2_values.mean()*100))\n",
        "print(\"Standard Deviation: {:.2f} %\".format(r2_values.std()*100))"
      ],
      "execution_count": null,
      "outputs": [
        {
          "output_type": "stream",
          "text": [
            "R2: 68.03 %\n",
            "Standard Deviation: 12.24 %\n"
          ],
          "name": "stdout"
        }
      ]
    },
    {
      "cell_type": "markdown",
      "metadata": {
        "id": "GyhR1miCOw3O"
      },
      "source": [
        "Test Set Performance"
      ]
    },
    {
      "cell_type": "code",
      "metadata": {
        "id": "Xkdb-pigbZlt"
      },
      "source": [
        "pred_dt_unscaled = decision_tree_unscaled.predict(x_test_unscaled)"
      ],
      "execution_count": null,
      "outputs": []
    },
    {
      "cell_type": "code",
      "metadata": {
        "colab": {
          "base_uri": "https://localhost:8080/"
        },
        "id": "07lpFYxSbd-W",
        "outputId": "4076c809-5cf1-41aa-9b05-b6dfb1a05850"
      },
      "source": [
        "r2_score(y_test_unscaled, pred_dt_unscaled)"
      ],
      "execution_count": null,
      "outputs": [
        {
          "output_type": "execute_result",
          "data": {
            "text/plain": [
              "0.8135851614541421"
            ]
          },
          "metadata": {
            "tags": []
          },
          "execution_count": 39
        }
      ]
    },
    {
      "cell_type": "markdown",
      "metadata": {
        "id": "Xw1fpAXKbqYf"
      },
      "source": [
        "__________________"
      ]
    },
    {
      "cell_type": "markdown",
      "metadata": {
        "id": "giCgueSebt97"
      },
      "source": [
        "### *5. Fitting a Polynomial Regression*"
      ]
    },
    {
      "cell_type": "markdown",
      "metadata": {
        "id": "Z3uwbqUdcMut"
      },
      "source": [
        "**5.1 Scaled**"
      ]
    },
    {
      "cell_type": "code",
      "metadata": {
        "id": "mY2-2YticU38"
      },
      "source": [
        "poly_reg_scaled = PolynomialFeatures(degree = 2)\n",
        "x_poly_scaled = poly_reg_scaled.fit_transform(x_train_scaled)"
      ],
      "execution_count": null,
      "outputs": []
    },
    {
      "cell_type": "code",
      "metadata": {
        "colab": {
          "base_uri": "https://localhost:8080/"
        },
        "id": "uW_KJrgqchwe",
        "outputId": "21c26dba-553b-4160-a689-362ac01507dc"
      },
      "source": [
        "pr_2_scaled = LinearRegression()\n",
        "pr_2_scaled.fit(x_poly_scaled, y_train_scaled)"
      ],
      "execution_count": null,
      "outputs": [
        {
          "output_type": "execute_result",
          "data": {
            "text/plain": [
              "LinearRegression(copy_X=True, fit_intercept=True, n_jobs=None, normalize=False)"
            ]
          },
          "metadata": {
            "tags": []
          },
          "execution_count": 41
        }
      ]
    },
    {
      "cell_type": "markdown",
      "metadata": {
        "id": "QzQcM7cnUz03"
      },
      "source": [
        "Test Set Performance"
      ]
    },
    {
      "cell_type": "code",
      "metadata": {
        "id": "Q58KliSZd1GQ"
      },
      "source": [
        "pred_pr_scaled = pr_2_scaled.predict(poly_reg_scaled.fit_transform(x_test_scaled))"
      ],
      "execution_count": null,
      "outputs": []
    },
    {
      "cell_type": "code",
      "metadata": {
        "colab": {
          "base_uri": "https://localhost:8080/"
        },
        "id": "v689wGYqeV-S",
        "outputId": "efc9e778-2665-4549-b550-66991135afcd"
      },
      "source": [
        "r2_score(y_test_scaled, pred_pr_scaled)"
      ],
      "execution_count": null,
      "outputs": [
        {
          "output_type": "execute_result",
          "data": {
            "text/plain": [
              "0.8526993997522644"
            ]
          },
          "metadata": {
            "tags": []
          },
          "execution_count": 43
        }
      ]
    },
    {
      "cell_type": "markdown",
      "metadata": {
        "id": "kGQMJziRencV"
      },
      "source": [
        "**5.2 Unscaled**"
      ]
    },
    {
      "cell_type": "code",
      "metadata": {
        "id": "wHmg1pCMerVG"
      },
      "source": [
        "poly_reg_unscaled = PolynomialFeatures(degree = 2)\n",
        "x_poly_unscaled = poly_reg_unscaled.fit_transform(x_train_unscaled)"
      ],
      "execution_count": null,
      "outputs": []
    },
    {
      "cell_type": "code",
      "metadata": {
        "colab": {
          "base_uri": "https://localhost:8080/"
        },
        "id": "gwnNVflJerbR",
        "outputId": "41dbe983-7c5d-43e7-f8cc-b5f80a52cc8b"
      },
      "source": [
        "pr_2_unscaled = LinearRegression()\n",
        "pr_2_unscaled.fit(x_poly_unscaled, y_train_unscaled)"
      ],
      "execution_count": null,
      "outputs": [
        {
          "output_type": "execute_result",
          "data": {
            "text/plain": [
              "LinearRegression(copy_X=True, fit_intercept=True, n_jobs=None, normalize=False)"
            ]
          },
          "metadata": {
            "tags": []
          },
          "execution_count": 45
        }
      ]
    },
    {
      "cell_type": "markdown",
      "metadata": {
        "id": "To2VnLNDVcbc"
      },
      "source": [
        "Test Set Performance"
      ]
    },
    {
      "cell_type": "code",
      "metadata": {
        "id": "ZVZ0yAHdergf"
      },
      "source": [
        "pred_pr_unscaled = pr_2_unscaled.predict(poly_reg_unscaled.fit_transform(x_test_unscaled))"
      ],
      "execution_count": null,
      "outputs": []
    },
    {
      "cell_type": "code",
      "metadata": {
        "colab": {
          "base_uri": "https://localhost:8080/"
        },
        "id": "uj3pCmwVerqQ",
        "outputId": "feeb0b1d-f8d1-4dbf-f3a3-1de7fb93e725"
      },
      "source": [
        "r2_score(y_test_unscaled, pred_pr_unscaled)"
      ],
      "execution_count": null,
      "outputs": [
        {
          "output_type": "execute_result",
          "data": {
            "text/plain": [
              "-2.656682643189701"
            ]
          },
          "metadata": {
            "tags": []
          },
          "execution_count": 47
        }
      ]
    },
    {
      "cell_type": "markdown",
      "metadata": {
        "id": "h4F8likhhhF3"
      },
      "source": [
        "________________"
      ]
    },
    {
      "cell_type": "markdown",
      "metadata": {
        "id": "CH9T1IDkhvfm"
      },
      "source": [
        "### *6. Random Forest Regression*"
      ]
    },
    {
      "cell_type": "markdown",
      "metadata": {
        "id": "0bhNmIIgh8jP"
      },
      "source": [
        "**6.1 Unscaled**"
      ]
    },
    {
      "cell_type": "code",
      "metadata": {
        "colab": {
          "base_uri": "https://localhost:8080/"
        },
        "id": "LQiatg75h-hI",
        "outputId": "d0bf961c-216b-4c6e-a925-a9c40596530b"
      },
      "source": [
        "random_forest_unscaled = RandomForestRegressor(n_estimators = 10, random_state = 0)\n",
        "random_forest_unscaled.fit(x_train_unscaled, y_train_unscaled)"
      ],
      "execution_count": null,
      "outputs": [
        {
          "output_type": "execute_result",
          "data": {
            "text/plain": [
              "RandomForestRegressor(bootstrap=True, ccp_alpha=0.0, criterion='mse',\n",
              "                      max_depth=None, max_features='auto', max_leaf_nodes=None,\n",
              "                      max_samples=None, min_impurity_decrease=0.0,\n",
              "                      min_impurity_split=None, min_samples_leaf=1,\n",
              "                      min_samples_split=2, min_weight_fraction_leaf=0.0,\n",
              "                      n_estimators=10, n_jobs=None, oob_score=False,\n",
              "                      random_state=0, verbose=0, warm_start=False)"
            ]
          },
          "metadata": {
            "tags": []
          },
          "execution_count": 48
        }
      ]
    },
    {
      "cell_type": "markdown",
      "metadata": {
        "id": "ZG1yAYt6VlJ7"
      },
      "source": [
        "Cross Validation Training Set"
      ]
    },
    {
      "cell_type": "code",
      "metadata": {
        "colab": {
          "base_uri": "https://localhost:8080/"
        },
        "id": "tN6bopULVgNw",
        "outputId": "d77faffd-6c71-4d51-80cb-bdcdf921a02b"
      },
      "source": [
        "r2_values = cross_val_score(estimator = random_forest_unscaled, X = x_train_unscaled, y = y_train_unscaled, cv = 10, scoring = 'r2')\n",
        "print(\"R2: {:.2f} %\".format(r2_values.mean()*100))\n",
        "print(\"Standard Deviation: {:.2f} %\".format(r2_values.std()*100))"
      ],
      "execution_count": null,
      "outputs": [
        {
          "output_type": "stream",
          "text": [
            "R2: 83.57 %\n",
            "Standard Deviation: 6.41 %\n"
          ],
          "name": "stdout"
        }
      ]
    },
    {
      "cell_type": "markdown",
      "metadata": {
        "id": "IA6cY-b-WAvd"
      },
      "source": [
        "Test Set Performance"
      ]
    },
    {
      "cell_type": "code",
      "metadata": {
        "id": "ab_bqWdwmbhm"
      },
      "source": [
        "pred_rf_unscaled = random_forest_unscaled.predict(x_test_unscaled)"
      ],
      "execution_count": null,
      "outputs": []
    },
    {
      "cell_type": "code",
      "metadata": {
        "colab": {
          "base_uri": "https://localhost:8080/"
        },
        "id": "GDlzr5rJmj7l",
        "outputId": "5e5068b8-05bd-42ed-8b64-989115d2fbfe"
      },
      "source": [
        "r2_score(y_test_unscaled, pred_rf_unscaled)"
      ],
      "execution_count": null,
      "outputs": [
        {
          "output_type": "execute_result",
          "data": {
            "text/plain": [
              "0.8411767715751246"
            ]
          },
          "metadata": {
            "tags": []
          },
          "execution_count": 51
        }
      ]
    },
    {
      "cell_type": "markdown",
      "metadata": {
        "id": "ZRyNKqqRivsy"
      },
      "source": [
        "__________"
      ]
    },
    {
      "cell_type": "markdown",
      "metadata": {
        "id": "iOna_Pddnbav"
      },
      "source": [
        "### *7. Support Vector Regression*"
      ]
    },
    {
      "cell_type": "markdown",
      "metadata": {
        "id": "SvDwtTYDiuns"
      },
      "source": [
        "**7.1 Scaled**"
      ]
    },
    {
      "cell_type": "code",
      "metadata": {
        "id": "aRZaL4l5mll_",
        "colab": {
          "base_uri": "https://localhost:8080/"
        },
        "outputId": "b22803ae-75c7-4adb-9cd2-8f608c849a38"
      },
      "source": [
        "#Input kernel: RBF kernel - recommended\n",
        "svr = SVR(kernel = 'rbf')\n",
        "svr.fit(x_train_scaled,y_train_scaled)"
      ],
      "execution_count": null,
      "outputs": [
        {
          "output_type": "execute_result",
          "data": {
            "text/plain": [
              "SVR(C=1.0, cache_size=200, coef0=0.0, degree=3, epsilon=0.1, gamma='scale',\n",
              "    kernel='rbf', max_iter=-1, shrinking=True, tol=0.001, verbose=False)"
            ]
          },
          "metadata": {
            "tags": []
          },
          "execution_count": 52
        }
      ]
    },
    {
      "cell_type": "markdown",
      "metadata": {
        "id": "OoSdNf_QWSmj"
      },
      "source": [
        "Cross Validation Training Set"
      ]
    },
    {
      "cell_type": "code",
      "metadata": {
        "colab": {
          "base_uri": "https://localhost:8080/"
        },
        "id": "8Z0Qzk0lWU69",
        "outputId": "838ffbf4-2f83-42e4-bbc7-3f363f34e837"
      },
      "source": [
        "r2_values = cross_val_score(estimator = svr, X = x_train_scaled, y = y_train_scaled, cv = 10, scoring = 'r2')\n",
        "print(\"R2: {:.2f} %\".format(r2_values.mean()*100))\n",
        "print(\"Standard Deviation: {:.2f} %\".format(r2_values.std()*100))"
      ],
      "execution_count": null,
      "outputs": [
        {
          "output_type": "stream",
          "text": [
            "R2: 86.20 %\n",
            "Standard Deviation: 6.47 %\n"
          ],
          "name": "stdout"
        }
      ]
    },
    {
      "cell_type": "markdown",
      "metadata": {
        "id": "_7FJrOEAWuDs"
      },
      "source": [
        "Test Set Performance"
      ]
    },
    {
      "cell_type": "code",
      "metadata": {
        "id": "8bnSCsGRxZ48"
      },
      "source": [
        "pred_svr = svr.predict(x_test_scaled)"
      ],
      "execution_count": null,
      "outputs": []
    },
    {
      "cell_type": "code",
      "metadata": {
        "colab": {
          "base_uri": "https://localhost:8080/"
        },
        "id": "BMaFHWztxlrd",
        "outputId": "6289b847-5df8-4f62-b2a8-9b49e64ff5a0"
      },
      "source": [
        "r2_score(y_test_scaled, pred_svr)"
      ],
      "execution_count": null,
      "outputs": [
        {
          "output_type": "execute_result",
          "data": {
            "text/plain": [
              "0.7489065971489697"
            ]
          },
          "metadata": {
            "tags": []
          },
          "execution_count": 55
        }
      ]
    },
    {
      "cell_type": "code",
      "metadata": {
        "id": "W2umkgK5kImq"
      },
      "source": [
        ""
      ],
      "execution_count": null,
      "outputs": []
    }
  ]
}